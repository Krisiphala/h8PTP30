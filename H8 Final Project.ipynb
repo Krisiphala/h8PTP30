{
 "cells": [
  {
   "cell_type": "markdown",
   "metadata": {},
   "source": [
    "# Hacktiv8 Intro to Python for Data Science Final Project"
   ]
  },
  {
   "cell_type": "markdown",
   "metadata": {},
   "source": [
    "## Pembukaan"
   ]
  },
  {
   "cell_type": "markdown",
   "metadata": {},
   "source": [
    "Online shopping merupakan salah satu bentuk transaksi yang terbesar dan merepresentasikan mayoritas revenue dari usaha B2C (Business to Customer). 69% warga Amerika telah menggunakan fasilitas online dalam hidupnya, dengan rata-rata revenue sebesar $1804 setiap pembelanja online. 36% warga Amerika melakukan online shopping minimal sekali dalam sebulan. Mempelajari bagaimana dan kapan pembelanja akan melakukan research dan pembelian merupakan hal yang sangat penting untuk bisnis, melalui itu mereka dapat mempelajari karakteristik dan perilaku pembelanja dan dapat dijadikan strategi advertising, marketing dan pencarian potensial customer baru untuk memperbesar revenue dan profit perusahaan."
   ]
  },
  {
   "cell_type": "markdown",
   "metadata": {},
   "source": [
    "## Data:"
   ]
  },
  {
   "cell_type": "markdown",
   "metadata": {},
   "source": [
    "Data ini terdiri dari 18 feature: 10 numerikal dan 8 kategorikal. Dataset ini memiliki 12330 entries, terbagi menjadi 10422 entries dimana pembelanja tidak melakukan pembelian dan 1908 melakukan pembelian. Data ini diambil dalam jangka waktu selama 1 tahun dan setiap entries diambil dari individu yang berbeda."
   ]
  },
  {
   "cell_type": "markdown",
   "metadata": {},
   "source": [
    "## Tujuan:"
   ]
  },
  {
   "cell_type": "markdown",
   "metadata": {},
   "source": [
    "Mempelajari persebaran data dari dataset pembelanja online dan feature - feature apa saja yang dapat mempengaruhi pembelanja dalam melakukan pembelian barang online menggunakan metode machine learning dengan akurasi tertinggi"
   ]
  },
  {
   "cell_type": "markdown",
   "metadata": {},
   "source": [
    "## Mempersiapkan dan Mempelajari Data"
   ]
  },
  {
   "cell_type": "code",
   "execution_count": 1,
   "metadata": {},
   "outputs": [],
   "source": [
    "import pandas as pd\n",
    "import numpy as np\n",
    "import matplotlib.pyplot as plt\n",
    "\n",
    "%matplotlib inline\n",
    "\n",
    "df = pd.read_csv('online_shoppers_intention.csv')\n",
    "\n",
    "import warnings\n",
    "warnings.filterwarnings('ignore')"
   ]
  },
  {
   "cell_type": "code",
   "execution_count": 2,
   "metadata": {},
   "outputs": [
    {
     "data": {
      "text/html": [
       "<div>\n",
       "<style scoped>\n",
       "    .dataframe tbody tr th:only-of-type {\n",
       "        vertical-align: middle;\n",
       "    }\n",
       "\n",
       "    .dataframe tbody tr th {\n",
       "        vertical-align: top;\n",
       "    }\n",
       "\n",
       "    .dataframe thead th {\n",
       "        text-align: right;\n",
       "    }\n",
       "</style>\n",
       "<table border=\"1\" class=\"dataframe\">\n",
       "  <thead>\n",
       "    <tr style=\"text-align: right;\">\n",
       "      <th></th>\n",
       "      <th>Administrative</th>\n",
       "      <th>Administrative_Duration</th>\n",
       "      <th>Informational</th>\n",
       "      <th>Informational_Duration</th>\n",
       "      <th>ProductRelated</th>\n",
       "      <th>ProductRelated_Duration</th>\n",
       "      <th>BounceRates</th>\n",
       "      <th>ExitRates</th>\n",
       "      <th>PageValues</th>\n",
       "      <th>SpecialDay</th>\n",
       "      <th>Month</th>\n",
       "      <th>OperatingSystems</th>\n",
       "      <th>Browser</th>\n",
       "      <th>Region</th>\n",
       "      <th>TrafficType</th>\n",
       "      <th>VisitorType</th>\n",
       "      <th>Weekend</th>\n",
       "      <th>Revenue</th>\n",
       "    </tr>\n",
       "  </thead>\n",
       "  <tbody>\n",
       "    <tr>\n",
       "      <td>0</td>\n",
       "      <td>0</td>\n",
       "      <td>0.0</td>\n",
       "      <td>0</td>\n",
       "      <td>0.0</td>\n",
       "      <td>1</td>\n",
       "      <td>0.000000</td>\n",
       "      <td>0.20</td>\n",
       "      <td>0.20</td>\n",
       "      <td>0.0</td>\n",
       "      <td>0.0</td>\n",
       "      <td>Feb</td>\n",
       "      <td>1</td>\n",
       "      <td>1</td>\n",
       "      <td>1</td>\n",
       "      <td>1</td>\n",
       "      <td>Returning_Visitor</td>\n",
       "      <td>False</td>\n",
       "      <td>False</td>\n",
       "    </tr>\n",
       "    <tr>\n",
       "      <td>1</td>\n",
       "      <td>0</td>\n",
       "      <td>0.0</td>\n",
       "      <td>0</td>\n",
       "      <td>0.0</td>\n",
       "      <td>2</td>\n",
       "      <td>64.000000</td>\n",
       "      <td>0.00</td>\n",
       "      <td>0.10</td>\n",
       "      <td>0.0</td>\n",
       "      <td>0.0</td>\n",
       "      <td>Feb</td>\n",
       "      <td>2</td>\n",
       "      <td>2</td>\n",
       "      <td>1</td>\n",
       "      <td>2</td>\n",
       "      <td>Returning_Visitor</td>\n",
       "      <td>False</td>\n",
       "      <td>False</td>\n",
       "    </tr>\n",
       "    <tr>\n",
       "      <td>2</td>\n",
       "      <td>0</td>\n",
       "      <td>0.0</td>\n",
       "      <td>0</td>\n",
       "      <td>0.0</td>\n",
       "      <td>1</td>\n",
       "      <td>0.000000</td>\n",
       "      <td>0.20</td>\n",
       "      <td>0.20</td>\n",
       "      <td>0.0</td>\n",
       "      <td>0.0</td>\n",
       "      <td>Feb</td>\n",
       "      <td>4</td>\n",
       "      <td>1</td>\n",
       "      <td>9</td>\n",
       "      <td>3</td>\n",
       "      <td>Returning_Visitor</td>\n",
       "      <td>False</td>\n",
       "      <td>False</td>\n",
       "    </tr>\n",
       "    <tr>\n",
       "      <td>3</td>\n",
       "      <td>0</td>\n",
       "      <td>0.0</td>\n",
       "      <td>0</td>\n",
       "      <td>0.0</td>\n",
       "      <td>2</td>\n",
       "      <td>2.666667</td>\n",
       "      <td>0.05</td>\n",
       "      <td>0.14</td>\n",
       "      <td>0.0</td>\n",
       "      <td>0.0</td>\n",
       "      <td>Feb</td>\n",
       "      <td>3</td>\n",
       "      <td>2</td>\n",
       "      <td>2</td>\n",
       "      <td>4</td>\n",
       "      <td>Returning_Visitor</td>\n",
       "      <td>False</td>\n",
       "      <td>False</td>\n",
       "    </tr>\n",
       "    <tr>\n",
       "      <td>4</td>\n",
       "      <td>0</td>\n",
       "      <td>0.0</td>\n",
       "      <td>0</td>\n",
       "      <td>0.0</td>\n",
       "      <td>10</td>\n",
       "      <td>627.500000</td>\n",
       "      <td>0.02</td>\n",
       "      <td>0.05</td>\n",
       "      <td>0.0</td>\n",
       "      <td>0.0</td>\n",
       "      <td>Feb</td>\n",
       "      <td>3</td>\n",
       "      <td>3</td>\n",
       "      <td>1</td>\n",
       "      <td>4</td>\n",
       "      <td>Returning_Visitor</td>\n",
       "      <td>True</td>\n",
       "      <td>False</td>\n",
       "    </tr>\n",
       "  </tbody>\n",
       "</table>\n",
       "</div>"
      ],
      "text/plain": [
       "   Administrative  Administrative_Duration  Informational  \\\n",
       "0               0                      0.0              0   \n",
       "1               0                      0.0              0   \n",
       "2               0                      0.0              0   \n",
       "3               0                      0.0              0   \n",
       "4               0                      0.0              0   \n",
       "\n",
       "   Informational_Duration  ProductRelated  ProductRelated_Duration  \\\n",
       "0                     0.0               1                 0.000000   \n",
       "1                     0.0               2                64.000000   \n",
       "2                     0.0               1                 0.000000   \n",
       "3                     0.0               2                 2.666667   \n",
       "4                     0.0              10               627.500000   \n",
       "\n",
       "   BounceRates  ExitRates  PageValues  SpecialDay Month  OperatingSystems  \\\n",
       "0         0.20       0.20         0.0         0.0   Feb                 1   \n",
       "1         0.00       0.10         0.0         0.0   Feb                 2   \n",
       "2         0.20       0.20         0.0         0.0   Feb                 4   \n",
       "3         0.05       0.14         0.0         0.0   Feb                 3   \n",
       "4         0.02       0.05         0.0         0.0   Feb                 3   \n",
       "\n",
       "   Browser  Region  TrafficType        VisitorType  Weekend  Revenue  \n",
       "0        1       1            1  Returning_Visitor    False    False  \n",
       "1        2       1            2  Returning_Visitor    False    False  \n",
       "2        1       9            3  Returning_Visitor    False    False  \n",
       "3        2       2            4  Returning_Visitor    False    False  \n",
       "4        3       1            4  Returning_Visitor     True    False  "
      ]
     },
     "execution_count": 2,
     "metadata": {},
     "output_type": "execute_result"
    }
   ],
   "source": [
    "df.head()"
   ]
  },
  {
   "cell_type": "code",
   "execution_count": 3,
   "metadata": {},
   "outputs": [
    {
     "name": "stdout",
     "output_type": "stream",
     "text": [
      "<class 'pandas.core.frame.DataFrame'>\n",
      "RangeIndex: 12330 entries, 0 to 12329\n",
      "Data columns (total 18 columns):\n",
      "Administrative             12330 non-null int64\n",
      "Administrative_Duration    12330 non-null float64\n",
      "Informational              12330 non-null int64\n",
      "Informational_Duration     12330 non-null float64\n",
      "ProductRelated             12330 non-null int64\n",
      "ProductRelated_Duration    12330 non-null float64\n",
      "BounceRates                12330 non-null float64\n",
      "ExitRates                  12330 non-null float64\n",
      "PageValues                 12330 non-null float64\n",
      "SpecialDay                 12330 non-null float64\n",
      "Month                      12330 non-null object\n",
      "OperatingSystems           12330 non-null int64\n",
      "Browser                    12330 non-null int64\n",
      "Region                     12330 non-null int64\n",
      "TrafficType                12330 non-null int64\n",
      "VisitorType                12330 non-null object\n",
      "Weekend                    12330 non-null bool\n",
      "Revenue                    12330 non-null bool\n",
      "dtypes: bool(2), float64(7), int64(7), object(2)\n",
      "memory usage: 1.5+ MB\n"
     ]
    }
   ],
   "source": [
    "df.info()"
   ]
  },
  {
   "cell_type": "markdown",
   "metadata": {},
   "source": [
    "#### Deskripsi Kolom:\n",
    "\n",
    "- Administrative: Jumlah halaman administratif yang dikunjungi oleh user.\n",
    "\n",
    "- Administrative_Duration: Jumlah waktu yang dihabiskan oleh user di halaman-halaman kategori administratif.\n",
    "\n",
    "- Informational: Jumlah halaman yang berisi informasi produk yang dikunjungi oleh user.\n",
    "\n",
    "- Informational_Duration: Jumlah waktu yang dihabiskan oleh user pada halaman-halaman yang berisi informasi produk.\n",
    "\n",
    "- ProductRelated: Jumlah halaman mengenai produk-produk yang berelasi yang telah dikunjungi user.\n",
    "\n",
    "- ProductRelated_Duration: Jumlah waktu yang dihabiskan waktu oleh user dalam mengunjungi halaman yang berelasi dengan produk.\n",
    "\n",
    "- BounceRates: Persentase dari pengunjung yang masuk ke halaman website tersebut tanpa melakukan apa-apa dan keluar dari website.\n",
    "\n",
    "- ExitRates: Persentase dari pageview pada website tersebut yang berakhir dalam salah satu halaman.\n",
    "\n",
    "- PageValues: Rata-rata dari value halaman tersebut yang berkontribusi dalam penyelesaian suatu pembelian barang online\n",
    "\n",
    "- SpecialDay: Nilai ini merepresentasikan kedekatan waktu user browsing dengan hari khusus atau libur (Hari Valentine atau Natal).\n",
    "\n",
    "- Month: Bulan dimana user membuka halaman tersebut, dalam bentuk string.\n",
    "\n",
    "- OperatingSystems: Nilai integer yang merepresentasikan jenis OS yang digunakan user.\n",
    "\n",
    "- Browser: Nilai integer yang merepresentasikan jenis browser yang digunakan user.\n",
    "\n",
    "- Region: Nilai integer yang merepresentasikan daerah dari user.\n",
    "\n",
    "- TrafficType: Nilai integer yang merepresentasikan jenis traffic user yang telah dikategorikan.\n",
    "\n",
    "- VisitorType: Sebuah string yang membagi user menjadi tiga yaitu New Visitor (Pengunjung baru), Returning Visitor (Pengjung lama, atau Other(Dan lainnya).\n",
    "\n",
    "- Weekend: Sebuah data boolean yang merepresentasikan hari user tersebut online di weekdays atau weekends.\n",
    "\n",
    "- Revenue: Sebuah data boolean yang merepresentasikan apakah user melakukan pembelian atau tidak, data ini yang nanti dapat digunakan sebagai label atau dependent variable."
   ]
  },
  {
   "cell_type": "markdown",
   "metadata": {},
   "source": [
    "Mengecek data apa saja yang ada pada tiap kolom:"
   ]
  },
  {
   "cell_type": "code",
   "execution_count": 4,
   "metadata": {
    "scrolled": true
   },
   "outputs": [
    {
     "data": {
      "text/plain": [
       "array([ 0,  1,  2,  4, 12,  3, 10,  6,  5,  9,  8, 16, 13, 11,  7, 18, 14,\n",
       "       17, 19, 15, 24, 22, 21, 20, 23, 27, 26], dtype=int64)"
      ]
     },
     "execution_count": 4,
     "metadata": {},
     "output_type": "execute_result"
    }
   ],
   "source": [
    "df['Administrative'].unique()"
   ]
  },
  {
   "cell_type": "code",
   "execution_count": 5,
   "metadata": {},
   "outputs": [
    {
     "data": {
      "text/plain": [
       "array([  0.       ,  53.       ,  64.6      , ..., 167.9107143,\n",
       "       305.125    , 150.3571429])"
      ]
     },
     "execution_count": 5,
     "metadata": {},
     "output_type": "execute_result"
    }
   ],
   "source": [
    "df['Administrative_Duration'].unique()"
   ]
  },
  {
   "cell_type": "code",
   "execution_count": 6,
   "metadata": {},
   "outputs": [
    {
     "data": {
      "text/plain": [
       "array([ 0,  1,  2,  4, 16,  5,  3, 14,  6, 12,  7,  9, 10,  8, 11, 24, 13],\n",
       "      dtype=int64)"
      ]
     },
     "execution_count": 6,
     "metadata": {},
     "output_type": "execute_result"
    }
   ],
   "source": [
    "df['Informational'].unique()"
   ]
  },
  {
   "cell_type": "code",
   "execution_count": 7,
   "metadata": {},
   "outputs": [
    {
     "data": {
      "text/plain": [
       "array([  0.  , 120.  ,  16.  , ..., 547.75, 368.25, 211.25])"
      ]
     },
     "execution_count": 7,
     "metadata": {},
     "output_type": "execute_result"
    }
   ],
   "source": [
    "df['Informational_Duration'].unique()"
   ]
  },
  {
   "cell_type": "code",
   "execution_count": 8,
   "metadata": {},
   "outputs": [
    {
     "data": {
      "text/plain": [
       "array([  1,   2,  10,  19,   0,   3,  16,   7,   6,  23,  13,  20,   8,\n",
       "         5,  32,   4,  45,  14,  52,   9,  46,  15,  22,  11,  12,  36,\n",
       "        42,  27,  90,  18,  38,  17, 128,  25,  30,  21,  51,  26,  28,\n",
       "        31,  24,  50,  96,  49,  68,  98,  67,  55,  35,  37,  29,  34,\n",
       "        71,  63,  87,  40,  33,  54,  64,  75,  39, 111,  81,  61,  47,\n",
       "        44,  88, 149,  41,  79,  66,  43, 258,  80,  62,  83, 173,  48,\n",
       "        58,  57,  56,  69,  82,  59, 109, 287,  53,  84,  78, 137, 113,\n",
       "        89,  65,  60, 104, 129,  77,  74,  93,  76,  72, 194, 140, 110,\n",
       "       132, 115,  73, 328, 160,  86, 150,  95, 130, 151, 117, 124, 127,\n",
       "       125, 116, 105,  92, 157, 154, 220, 187, 112, 131, 159,  94, 204,\n",
       "       142, 206, 102, 313, 145,  85,  97, 198, 181, 126, 106, 101, 108,\n",
       "       119,  70, 122,  91, 276, 100, 291, 114, 172, 217, 141, 133, 156,\n",
       "       136, 180, 135, 195,  99, 362, 179, 118, 175, 148, 440, 103, 178,\n",
       "       184, 705, 134, 176, 146, 189, 120, 193, 222, 121, 107, 305, 199,\n",
       "       439, 223, 230, 280, 377, 310, 158, 486, 153, 139, 182, 221, 229,\n",
       "       216, 170, 202, 346, 274, 240, 162, 123, 211, 227, 168, 161, 429,\n",
       "       686, 167, 518, 256, 255, 358, 213, 191, 282, 155, 138, 246, 237,\n",
       "       271, 171, 414, 219, 262, 409, 243, 241, 197, 449, 143, 188, 391,\n",
       "       238, 152, 165, 293, 174, 584, 164, 311, 340, 250, 200, 385, 292,\n",
       "       232, 251, 517, 225, 169, 309, 235, 501, 224, 275, 318, 144, 397,\n",
       "       343, 245, 186, 337, 351, 166, 349, 423, 359, 163, 147, 264, 312,\n",
       "       226, 324, 266, 260, 338, 272, 534, 470, 207, 218, 326, 190, 304,\n",
       "       205, 233, 401, 177, 330, 286, 247, 357, 315, 231, 339, 283, 374,\n",
       "       248, 279, 281, 234, 261, 290, 336, 378, 254, 183, 210, 192],\n",
       "      dtype=int64)"
      ]
     },
     "execution_count": 8,
     "metadata": {},
     "output_type": "execute_result"
    }
   ],
   "source": [
    "df['ProductRelated'].unique()"
   ]
  },
  {
   "cell_type": "code",
   "execution_count": 9,
   "metadata": {},
   "outputs": [
    {
     "data": {
      "text/plain": [
       "array([  0.        ,  64.        ,   2.66666667, ..., 465.75      ,\n",
       "       184.25      , 346.        ])"
      ]
     },
     "execution_count": 9,
     "metadata": {},
     "output_type": "execute_result"
    }
   ],
   "source": [
    "df['ProductRelated_Duration'].unique()"
   ]
  },
  {
   "cell_type": "code",
   "execution_count": 10,
   "metadata": {},
   "outputs": [
    {
     "data": {
      "text/plain": [
       "array([0.2       , 0.        , 0.05      , ..., 0.00382775, 0.00086956,\n",
       "       0.01114899])"
      ]
     },
     "execution_count": 10,
     "metadata": {},
     "output_type": "execute_result"
    }
   ],
   "source": [
    "df['BounceRates'].unique()"
   ]
  },
  {
   "cell_type": "code",
   "execution_count": 11,
   "metadata": {},
   "outputs": [
    {
     "data": {
      "text/plain": [
       "array([0.2       , 0.1       , 0.14      , ..., 0.01276133, 0.01395349,\n",
       "       0.02903061])"
      ]
     },
     "execution_count": 11,
     "metadata": {},
     "output_type": "execute_result"
    }
   ],
   "source": [
    "df['ExitRates'].unique()"
   ]
  },
  {
   "cell_type": "code",
   "execution_count": 12,
   "metadata": {},
   "outputs": [
    {
     "data": {
      "text/plain": [
       "array([ 0.        , 54.17976426, 19.44707913, ..., 78.81172527,\n",
       "        3.68540082, 12.24171745])"
      ]
     },
     "execution_count": 12,
     "metadata": {},
     "output_type": "execute_result"
    }
   ],
   "source": [
    "df['PageValues'].unique()"
   ]
  },
  {
   "cell_type": "code",
   "execution_count": 13,
   "metadata": {},
   "outputs": [
    {
     "data": {
      "text/plain": [
       "array([0. , 0.4, 0.8, 1. , 0.2, 0.6])"
      ]
     },
     "execution_count": 13,
     "metadata": {},
     "output_type": "execute_result"
    }
   ],
   "source": [
    "df['SpecialDay'].unique()"
   ]
  },
  {
   "cell_type": "code",
   "execution_count": 14,
   "metadata": {},
   "outputs": [
    {
     "data": {
      "text/plain": [
       "array(['Feb', 'Mar', 'May', 'Oct', 'June', 'Jul', 'Aug', 'Nov', 'Sep',\n",
       "       'Dec'], dtype=object)"
      ]
     },
     "execution_count": 14,
     "metadata": {},
     "output_type": "execute_result"
    }
   ],
   "source": [
    "df['Month'].unique()"
   ]
  },
  {
   "cell_type": "code",
   "execution_count": 15,
   "metadata": {},
   "outputs": [
    {
     "data": {
      "text/plain": [
       "array([1, 2, 4, 3, 7, 6, 8, 5], dtype=int64)"
      ]
     },
     "execution_count": 15,
     "metadata": {},
     "output_type": "execute_result"
    }
   ],
   "source": [
    "df['OperatingSystems'].unique()"
   ]
  },
  {
   "cell_type": "code",
   "execution_count": 16,
   "metadata": {},
   "outputs": [
    {
     "data": {
      "text/plain": [
       "array([ 1,  2,  3,  4,  5,  6,  7, 10,  8,  9, 12, 13, 11], dtype=int64)"
      ]
     },
     "execution_count": 16,
     "metadata": {},
     "output_type": "execute_result"
    }
   ],
   "source": [
    "df['Browser'].unique()"
   ]
  },
  {
   "cell_type": "code",
   "execution_count": 17,
   "metadata": {},
   "outputs": [
    {
     "data": {
      "text/plain": [
       "array([1, 9, 2, 3, 4, 5, 6, 7, 8], dtype=int64)"
      ]
     },
     "execution_count": 17,
     "metadata": {},
     "output_type": "execute_result"
    }
   ],
   "source": [
    "df['Region'].unique()"
   ]
  },
  {
   "cell_type": "code",
   "execution_count": 18,
   "metadata": {},
   "outputs": [
    {
     "data": {
      "text/plain": [
       "array([ 1,  2,  3,  4,  5,  6,  7,  8,  9, 10, 11, 12, 13, 14, 15, 18, 19,\n",
       "       16, 17, 20], dtype=int64)"
      ]
     },
     "execution_count": 18,
     "metadata": {},
     "output_type": "execute_result"
    }
   ],
   "source": [
    "df['TrafficType'].unique()"
   ]
  },
  {
   "cell_type": "code",
   "execution_count": 19,
   "metadata": {},
   "outputs": [
    {
     "data": {
      "text/plain": [
       "array(['Returning_Visitor', 'New_Visitor', 'Other'], dtype=object)"
      ]
     },
     "execution_count": 19,
     "metadata": {},
     "output_type": "execute_result"
    }
   ],
   "source": [
    "df['VisitorType'].unique()"
   ]
  },
  {
   "cell_type": "code",
   "execution_count": 20,
   "metadata": {},
   "outputs": [
    {
     "data": {
      "text/plain": [
       "array([False,  True])"
      ]
     },
     "execution_count": 20,
     "metadata": {},
     "output_type": "execute_result"
    }
   ],
   "source": [
    "df['Weekend'].unique()"
   ]
  },
  {
   "cell_type": "code",
   "execution_count": 21,
   "metadata": {},
   "outputs": [
    {
     "data": {
      "text/plain": [
       "array([False,  True])"
      ]
     },
     "execution_count": 21,
     "metadata": {},
     "output_type": "execute_result"
    }
   ],
   "source": [
    "df['Revenue'].unique()"
   ]
  },
  {
   "cell_type": "markdown",
   "metadata": {},
   "source": [
    "## Exploratory Data Analysis"
   ]
  },
  {
   "cell_type": "code",
   "execution_count": 22,
   "metadata": {},
   "outputs": [
    {
     "data": {
      "text/plain": [
       "(12330, 18)"
      ]
     },
     "execution_count": 22,
     "metadata": {},
     "output_type": "execute_result"
    }
   ],
   "source": [
    "df.shape"
   ]
  },
  {
   "cell_type": "code",
   "execution_count": 107,
   "metadata": {},
   "outputs": [
    {
     "data": {
      "text/plain": [
       "Administrative             False\n",
       "Administrative_Duration    False\n",
       "Informational              False\n",
       "Informational_Duration     False\n",
       "ProductRelated             False\n",
       "ProductRelated_Duration    False\n",
       "BounceRates                False\n",
       "ExitRates                  False\n",
       "PageValues                 False\n",
       "SpecialDay                 False\n",
       "Month                      False\n",
       "OperatingSystems           False\n",
       "Browser                    False\n",
       "Region                     False\n",
       "TrafficType                False\n",
       "VisitorType                False\n",
       "Weekend                    False\n",
       "Revenue                    False\n",
       "dtype: bool"
      ]
     },
     "execution_count": 107,
     "metadata": {},
     "output_type": "execute_result"
    }
   ],
   "source": [
    "df.isnull().any()\n",
    "# Tidak ada missing values"
   ]
  },
  {
   "cell_type": "markdown",
   "metadata": {},
   "source": [
    "### Analisis Menggunakan Satu Variabel"
   ]
  },
  {
   "cell_type": "code",
   "execution_count": 24,
   "metadata": {},
   "outputs": [
    {
     "data": {
      "text/plain": [
       "False    10422\n",
       "True      1908\n",
       "Name: Revenue, dtype: int64"
      ]
     },
     "execution_count": 24,
     "metadata": {},
     "output_type": "execute_result"
    }
   ],
   "source": [
    "df['Revenue'].value_counts()"
   ]
  },
  {
   "cell_type": "code",
   "execution_count": 108,
   "metadata": {},
   "outputs": [
    {
     "data": {
      "text/plain": [
       "0    84.525547\n",
       "1    15.474453\n",
       "Name: Revenue, dtype: float64"
      ]
     },
     "execution_count": 108,
     "metadata": {},
     "output_type": "execute_result"
    }
   ],
   "source": [
    "df['Revenue'].value_counts(normalize=True)*100"
   ]
  },
  {
   "cell_type": "code",
   "execution_count": 25,
   "metadata": {},
   "outputs": [
    {
     "data": {
      "image/png": "[encoded data removed]",
      "text/plain": [
       "<Figure size 720x432 with 1 Axes>"
      ]
     },
     "metadata": {
      "needs_background": "light"
     },
     "output_type": "display_data"
    }
   ],
   "source": [
    "df['Revenue'].value_counts().plot(kind='bar', figsize=(10, 6), color=['red', 'green'])\n",
    "\n",
    "plt.title('Buy or Not ?')\n",
    "plt.ylabel('Number of Purchases')\n",
    "plt.xlabel('Yes / No')\n",
    "\n",
    "plt.show()"
   ]
  },
  {
   "cell_type": "markdown",
   "metadata": {},
   "source": [
    "Dari seluruh data yang didapatkan,\n",
    "- Hanya terjadi 1908 pembelian dari total 12330 pengunjung situs online (15,47%)"
   ]
  },
  {
   "cell_type": "code",
   "execution_count": 26,
   "metadata": {},
   "outputs": [
    {
     "data": {
      "image/png": "[encoded data removed]",
      "text/plain": [
       "<Figure size 720x432 with 1 Axes>"
      ]
     },
     "metadata": {
      "needs_background": "light"
     },
     "output_type": "display_data"
    }
   ],
   "source": [
    "df['Weekend'].value_counts().plot(kind='bar', figsize=(10, 6), color=['blue', 'orange'])\n",
    "\n",
    "plt.title('Web Visits On Weekends')\n",
    "plt.ylabel('Number of Visits')\n",
    "plt.xlabel('Weekends')\n",
    "\n",
    "plt.show()"
   ]
  },
  {
   "cell_type": "markdown",
   "metadata": {},
   "source": [
    "Berdasarkan grafik diatas dapat terlihat bahwa lebih banyak pengunjung situs online shopping pada weekdays dibandingkan weekends"
   ]
  },
  {
   "cell_type": "code",
   "execution_count": 27,
   "metadata": {},
   "outputs": [
    {
     "data": {
      "image/png": "[encoded data removed]",
      "text/plain": [
       "<Figure size 360x432 with 1 Axes>"
      ]
     },
     "metadata": {},
     "output_type": "display_data"
    }
   ],
   "source": [
    "df['VisitorType'].value_counts().plot(kind='pie',\n",
    "                            figsize=(5, 6),\n",
    "                            startangle=90,\n",
    "                            autopct='%1.1f%%'\n",
    "                           )\n",
    "\n",
    "plt.title('Visitor Types')\n",
    "plt.axis('equal')\n",
    "\n",
    "plt.show()"
   ]
  },
  {
   "cell_type": "markdown",
   "metadata": {},
   "source": [
    "Dari grafik tersebut dapat dilihat mayoritas pengunjung adalah returning visitor atau pengunjung lama, dengan pembagian:\n",
    "- Pengunjung lama 85,6 %\n",
    "- Pengunjung baru 13,7 %\n",
    "- Dan lainnya 0,7%"
   ]
  },
  {
   "cell_type": "code",
   "execution_count": 28,
   "metadata": {},
   "outputs": [
    {
     "data": {
      "image/png": "[encoded data removed]",
      "text/plain": [
       "<Figure size 432x288 with 1 Axes>"
      ]
     },
     "metadata": {
      "needs_background": "light"
     },
     "output_type": "display_data"
    }
   ],
   "source": [
    "plt.subplot(1, 1, 1)\n",
    "plt.hist(df['TrafficType'], color = 'lightblue')\n",
    "plt.title('Distribution of Traffic Types',fontsize = 15)\n",
    "plt.xlabel('Traffic Type Codes', fontsize = 10)\n",
    "plt.ylabel('Count', fontsize = 10)\n",
    "\n",
    "plt.show()"
   ]
  },
  {
   "cell_type": "markdown",
   "metadata": {},
   "source": [
    "Pengunjung situs online terbanyak berasal dari user dengan kategori 1"
   ]
  },
  {
   "cell_type": "code",
   "execution_count": 29,
   "metadata": {},
   "outputs": [
    {
     "data": {
      "image/png": "[encoded data removed]",
      "text/plain": [
       "<Figure size 432x288 with 1 Axes>"
      ]
     },
     "metadata": {
      "needs_background": "light"
     },
     "output_type": "display_data"
    }
   ],
   "source": [
    "plt.subplot(1, 1, 1)\n",
    "plt.hist(df['Region'], color = 'lightgreen')\n",
    "plt.title('Distribution of Visitor Regions',fontsize = 15)\n",
    "plt.xlabel('Region Codes', fontsize = 10)\n",
    "plt.ylabel('Count', fontsize = 10)\n",
    "\n",
    "plt.show()"
   ]
  },
  {
   "cell_type": "markdown",
   "metadata": {},
   "source": [
    "Dari grafik diatas dapat disimpulkan pengunjung situs online terbanyak dari region dengan kode 1"
   ]
  },
  {
   "cell_type": "code",
   "execution_count": 30,
   "metadata": {},
   "outputs": [
    {
     "data": {
      "image/png": "[encoded data removed]",
      "text/plain": [
       "<Figure size 360x432 with 1 Axes>"
      ]
     },
     "metadata": {},
     "output_type": "display_data"
    }
   ],
   "source": [
    "df['Browser'].value_counts().plot(kind='pie',\n",
    "                            figsize=(5, 6),\n",
    "                            startangle=90,\n",
    "                            autopct='%1.1f%%'\n",
    "                           )\n",
    "\n",
    "plt.title('Distribution of Browser Types')\n",
    "plt.axis('equal')\n",
    "\n",
    "plt.show()"
   ]
  },
  {
   "cell_type": "markdown",
   "metadata": {},
   "source": [
    "Terlihat dari pie chart, pengunjung mayoritas besar menggunakan browser nomer 2 dengan persentase sebesar 64.6%"
   ]
  },
  {
   "cell_type": "code",
   "execution_count": 32,
   "metadata": {},
   "outputs": [
    {
     "data": {
      "image/png": "[encoded data removed]",
      "text/plain": [
       "<Figure size 360x432 with 1 Axes>"
      ]
     },
     "metadata": {},
     "output_type": "display_data"
    }
   ],
   "source": [
    "df['OperatingSystems'].value_counts().plot(kind='pie',\n",
    "                            figsize=(5, 6),\n",
    "                            startangle=90,\n",
    "                            autopct='%1.1f%%'\n",
    "                           )\n",
    "\n",
    "plt.title('Distribution of OS Types')\n",
    "plt.axis('equal')\n",
    "\n",
    "plt.show()"
   ]
  },
  {
   "cell_type": "markdown",
   "metadata": {},
   "source": [
    "Dan Operating System yang paling banyak digunakan adalah OS nomer 2"
   ]
  },
  {
   "cell_type": "code",
   "execution_count": 33,
   "metadata": {},
   "outputs": [
    {
     "data": {
      "image/png": "[encoded data removed]",
      "text/plain": [
       "<Figure size 864x576 with 1 Axes>"
      ]
     },
     "metadata": {
      "needs_background": "light"
     },
     "output_type": "display_data"
    }
   ],
   "source": [
    "df['Month'].value_counts().plot(kind='bar', figsize=(12, 8))\n",
    "\n",
    "plt.title('Number of Visits Based on Month')\n",
    "plt.ylabel('Number of Visits')\n",
    "plt.xlabel('Month')\n",
    "\n",
    "plt.show()"
   ]
  },
  {
   "cell_type": "markdown",
   "metadata": {},
   "source": [
    "Pengunjung online terbanyak dilakukan pada bulan Mei diikuti dengan November dan Maret"
   ]
  },
  {
   "cell_type": "code",
   "execution_count": 34,
   "metadata": {},
   "outputs": [
    {
     "data": {
      "image/png": "[encoded data removed]",
      "text/plain": [
       "<Figure size 864x576 with 1 Axes>"
      ]
     },
     "metadata": {
      "needs_background": "light"
     },
     "output_type": "display_data"
    }
   ],
   "source": [
    "df['SpecialDay'].value_counts().plot(kind='bar', figsize=(12, 8))\n",
    "\n",
    "plt.title('Effect of Special Days on Number of Visits')\n",
    "plt.ylabel('Number of Visits')\n",
    "plt.xlabel('Special Day Closeness')\n",
    "\n",
    "plt.show()"
   ]
  },
  {
   "cell_type": "markdown",
   "metadata": {},
   "source": [
    "Dari grafik diatas dapat dilihat bahwa pengunjung terbanyak berasal dari hari yang tidak dekat dengan hari khusus ataupun hari libur"
   ]
  },
  {
   "cell_type": "markdown",
   "metadata": {},
   "source": [
    "### Analisis Menggunakan Dua Variabel"
   ]
  },
  {
   "cell_type": "markdown",
   "metadata": {},
   "source": [
    "#### Jumlah halaman yang dikunjungi vs Revenue (Pembelian)"
   ]
  },
  {
   "cell_type": "code",
   "execution_count": 36,
   "metadata": {},
   "outputs": [],
   "source": [
    "import seaborn as sns"
   ]
  },
  {
   "cell_type": "code",
   "execution_count": 114,
   "metadata": {},
   "outputs": [
    {
     "data": {
      "image/png": "[encoded data removed]",
      "text/plain": [
       "<Figure size 432x288 with 1 Axes>"
      ]
     },
     "metadata": {
      "needs_background": "light"
     },
     "output_type": "display_data"
    },
    {
     "data": {
      "image/png": "[encoded data removed]",
      "text/plain": [
       "<Figure size 432x288 with 1 Axes>"
      ]
     },
     "metadata": {
      "needs_background": "light"
     },
     "output_type": "display_data"
    },
    {
     "data": {
      "image/png": "[encoded data removed]",
      "text/plain": [
       "<Figure size 432x288 with 1 Axes>"
      ]
     },
     "metadata": {
      "needs_background": "light"
     },
     "output_type": "display_data"
    }
   ],
   "source": [
    "sns.boxenplot(df['Revenue'], df['Administrative'], palette = 'spring')\n",
    "plt.title('Administrative vs Revenue', fontsize = 15)\n",
    "plt.xlabel('Administrative', fontsize = 10)\n",
    "plt.ylabel('Revenue', fontsize = 10)\n",
    "\n",
    "plt.show()\n",
    "\n",
    "sns.boxenplot(df['Revenue'], df['Informational'], palette = 'winter')\n",
    "plt.title('Informational vs Revenue', fontsize = 15)\n",
    "plt.xlabel('Informational', fontsize = 10)\n",
    "plt.ylabel('Revenue', fontsize = 10)\n",
    "\n",
    "\n",
    "plt.show()\n",
    "\n",
    "sns.boxenplot(df['Revenue'], df['ProductRelated'], palette = 'summer')\n",
    "plt.title('Product Related vs Revenue', fontsize = 15)\n",
    "plt.xlabel('Product Related', fontsize = 10)\n",
    "plt.ylabel('Revenue', fontsize = 10)\n",
    "\n",
    "\n",
    "plt.show()"
   ]
  },
  {
   "cell_type": "markdown",
   "metadata": {},
   "source": [
    "Persebaran jumlah halaman yang dikunjungi jika dibandingkan dengan revenue(Pembelian). "
   ]
  },
  {
   "cell_type": "markdown",
   "metadata": {},
   "source": [
    "#### Duration vs Revenue"
   ]
  },
  {
   "cell_type": "code",
   "execution_count": 115,
   "metadata": {},
   "outputs": [
    {
     "data": {
      "image/png": "[encoded data removed]",
      "text/plain": [
       "<Figure size 432x288 with 1 Axes>"
      ]
     },
     "metadata": {
      "needs_background": "light"
     },
     "output_type": "display_data"
    },
    {
     "data": {
      "image/png": "[encoded data removed]",
      "text/plain": [
       "<Figure size 432x288 with 1 Axes>"
      ]
     },
     "metadata": {
      "needs_background": "light"
     },
     "output_type": "display_data"
    },
    {
     "data": {
      "image/png": "[encoded data removed]",
      "text/plain": [
       "<Figure size 432x288 with 1 Axes>"
      ]
     },
     "metadata": {
      "needs_background": "light"
     },
     "output_type": "display_data"
    }
   ],
   "source": [
    "sns.boxenplot(df['Revenue'], df['Administrative_Duration'], palette = 'spring')\n",
    "plt.title('Administrative Duration vs Revenue', fontsize = 15)\n",
    "plt.xlabel('Administrative Duration', fontsize = 10)\n",
    "plt.ylabel('Revenue', fontsize = 10)\n",
    "\n",
    "plt.show()\n",
    "\n",
    "sns.boxenplot(df['Revenue'], df['Informational_Duration'], palette = 'winter')\n",
    "plt.title('Informational Duration vs Revenue', fontsize = 15)\n",
    "plt.xlabel('Informational Duration', fontsize = 10)\n",
    "plt.ylabel('Revenue', fontsize = 10)\n",
    "\n",
    "\n",
    "plt.show()\n",
    "\n",
    "sns.boxenplot(df['Revenue'], df['ProductRelated_Duration'], palette = 'summer')\n",
    "plt.title('Product Related Duration vs Revenue', fontsize = 15)\n",
    "plt.xlabel('Product Related Duration', fontsize = 10)\n",
    "plt.ylabel('Revenue', fontsize = 10)\n",
    "\n",
    "\n",
    "plt.show()\n"
   ]
  },
  {
   "cell_type": "markdown",
   "metadata": {},
   "source": [
    "Persebaran lamanya durasi user dalam mengunjungi halaman dibandingkan dengan revenue(Pembelian)."
   ]
  },
  {
   "cell_type": "markdown",
   "metadata": {},
   "source": [
    "#### Google Analytic vs Revenue"
   ]
  },
  {
   "cell_type": "code",
   "execution_count": 50,
   "metadata": {},
   "outputs": [
    {
     "data": {
      "image/png": "[encoded data removed]",
      "text/plain": [
       "<Figure size 432x288 with 1 Axes>"
      ]
     },
     "metadata": {
      "needs_background": "light"
     },
     "output_type": "display_data"
    }
   ],
   "source": [
    "sns.boxenplot(df['Revenue'], df['BounceRates'], palette = 'spring')\n",
    "plt.title('Bounce Rates vs Revenue', fontsize = 15)\n",
    "plt.xlabel('Bounce Rates', fontsize = 10)\n",
    "plt.ylabel('Revenue', fontsize = 10)\n",
    "\n",
    "\n",
    "plt.show()"
   ]
  },
  {
   "cell_type": "code",
   "execution_count": 116,
   "metadata": {},
   "outputs": [
    {
     "data": {
      "image/png": "[encoded data removed]",
      "text/plain": [
       "<Figure size 432x288 with 1 Axes>"
      ]
     },
     "metadata": {
      "needs_background": "light"
     },
     "output_type": "display_data"
    }
   ],
   "source": [
    "sns.boxenplot(df['Revenue'], df['ExitRates'], palette = 'summer')\n",
    "plt.title('Exit Rates vs Revenue', fontsize = 15)\n",
    "plt.xlabel('Exit Rates', fontsize = 10)\n",
    "plt.ylabel('Revenue', fontsize = 10)\n",
    "\n",
    "\n",
    "plt.show()"
   ]
  },
  {
   "cell_type": "code",
   "execution_count": 117,
   "metadata": {},
   "outputs": [
    {
     "data": {
      "image/png": "[encoded data removed]",
      "text/plain": [
       "<Figure size 432x288 with 1 Axes>"
      ]
     },
     "metadata": {
      "needs_background": "light"
     },
     "output_type": "display_data"
    }
   ],
   "source": [
    "sns.boxenplot(df['Revenue'], df['PageValues'], palette = 'winter')\n",
    "plt.title('Page Values vs Revenue', fontsize = 15)\n",
    "plt.xlabel('PageValues', fontsize = 10)\n",
    "plt.ylabel('Revenue', fontsize = 10)\n",
    "\n",
    "\n",
    "plt.show()"
   ]
  },
  {
   "cell_type": "code",
   "execution_count": 57,
   "metadata": {},
   "outputs": [
    {
     "data": {
      "image/png": "[encoded data removed]",
      "text/plain": [
       "<Figure size 432x288 with 1 Axes>"
      ]
     },
     "metadata": {
      "needs_background": "light"
     },
     "output_type": "display_data"
    }
   ],
   "source": [
    "pd.crosstab(df['Weekend'],df['Revenue']).plot(kind='bar',stacked=True)\n",
    "plt.title('Weekend vs Revenue')\n",
    "plt.show()"
   ]
  },
  {
   "cell_type": "markdown",
   "metadata": {},
   "source": [
    "Dapat dilihat pada grafik bahwa pembelian online juga lebih banyak dilakukan pada weekdays dibanding weekend"
   ]
  },
  {
   "cell_type": "code",
   "execution_count": 58,
   "metadata": {
    "scrolled": true
   },
   "outputs": [
    {
     "data": {
      "image/png": "[encoded data removed]",
      "text/plain": [
       "<Figure size 432x288 with 1 Axes>"
      ]
     },
     "metadata": {
      "needs_background": "light"
     },
     "output_type": "display_data"
    }
   ],
   "source": [
    "pd.crosstab(df['VisitorType'],df['Revenue']).plot(kind='bar',stacked=True)\n",
    "plt.title('Visitor Type vs Revenue')\n",
    "plt.show()"
   ]
  },
  {
   "cell_type": "markdown",
   "metadata": {},
   "source": [
    "Dapat dilihat pada grafik bahwa pembelian online juga mayoritas berasal dari pengunjung lama"
   ]
  },
  {
   "cell_type": "code",
   "execution_count": 59,
   "metadata": {},
   "outputs": [
    {
     "data": {
      "image/png": "[encoded data removed]",
      "text/plain": [
       "<Figure size 432x288 with 1 Axes>"
      ]
     },
     "metadata": {
      "needs_background": "light"
     },
     "output_type": "display_data"
    }
   ],
   "source": [
    "pd.crosstab(df['TrafficType'],df['Revenue']).plot(kind='bar',stacked=True)\n",
    "plt.title('Traffic Type vs Revenue')\n",
    "plt.show()"
   ]
  },
  {
   "cell_type": "markdown",
   "metadata": {},
   "source": [
    "Pembelian terbanyak juga berasal dari user traffic kode 2"
   ]
  },
  {
   "cell_type": "code",
   "execution_count": 60,
   "metadata": {},
   "outputs": [
    {
     "data": {
      "image/png": "[encoded data removed]",
      "text/plain": [
       "<Figure size 432x288 with 1 Axes>"
      ]
     },
     "metadata": {
      "needs_background": "light"
     },
     "output_type": "display_data"
    }
   ],
   "source": [
    "pd.crosstab(df['Region'],df['Revenue']).plot(kind='bar',stacked=True)\n",
    "plt.title('Region vs Revenue')\n",
    "plt.show()"
   ]
  },
  {
   "cell_type": "markdown",
   "metadata": {},
   "source": [
    "Sama seperti pengunjungnya, pembelian terbanyak juga berasal dari region 1"
   ]
  },
  {
   "cell_type": "code",
   "execution_count": 61,
   "metadata": {},
   "outputs": [
    {
     "data": {
      "image/png": "[encoded data removed]",
      "text/plain": [
       "<Figure size 432x288 with 1 Axes>"
      ]
     },
     "metadata": {
      "needs_background": "light"
     },
     "output_type": "display_data"
    }
   ],
   "source": [
    "pd.crosstab(df['Browser'],df['Revenue']).plot(kind='bar',stacked=True)\n",
    "plt.title('Browser Type vs Revenue')\n",
    "plt.show()"
   ]
  },
  {
   "cell_type": "markdown",
   "metadata": {},
   "source": [
    "Browser dengan pembelian terbanyak juga berasal dari browser 2"
   ]
  },
  {
   "cell_type": "code",
   "execution_count": 62,
   "metadata": {},
   "outputs": [
    {
     "data": {
      "image/png": "[encoded data removed]",
      "text/plain": [
       "<Figure size 432x288 with 1 Axes>"
      ]
     },
     "metadata": {
      "needs_background": "light"
     },
     "output_type": "display_data"
    }
   ],
   "source": [
    "pd.crosstab(df['OperatingSystems'],df['Revenue']).plot(kind='bar',stacked=True)\n",
    "plt.title('OS vs Revenue')\n",
    "plt.show()"
   ]
  },
  {
   "cell_type": "markdown",
   "metadata": {},
   "source": [
    "OS 2 merupakan OS mayoritas yang digunakan oleh pembeli"
   ]
  },
  {
   "cell_type": "code",
   "execution_count": 63,
   "metadata": {},
   "outputs": [
    {
     "data": {
      "image/png": "[encoded data removed]",
      "text/plain": [
       "<Figure size 432x288 with 1 Axes>"
      ]
     },
     "metadata": {
      "needs_background": "light"
     },
     "output_type": "display_data"
    }
   ],
   "source": [
    "pd.crosstab(df['Month'],df['Revenue']).plot(kind='bar',stacked=True)\n",
    "plt.title('Month vs Revenue')\n",
    "plt.show()"
   ]
  },
  {
   "cell_type": "markdown",
   "metadata": {},
   "source": [
    "Berbeda dengan pengunjung dimana terbanyak pada bulan Mei, pembelian terbanyak terjadi pada bulan November"
   ]
  },
  {
   "cell_type": "code",
   "execution_count": 64,
   "metadata": {},
   "outputs": [
    {
     "data": {
      "image/png": "[encoded data removed]",
      "text/plain": [
       "<Figure size 432x288 with 1 Axes>"
      ]
     },
     "metadata": {
      "needs_background": "light"
     },
     "output_type": "display_data"
    }
   ],
   "source": [
    "pd.crosstab(df['SpecialDay'],df['Revenue']).plot(kind='bar',stacked=True)\n",
    "plt.title('Special Day vs Revenue')\n",
    "plt.show()"
   ]
  },
  {
   "cell_type": "markdown",
   "metadata": {},
   "source": [
    "Pembelian terbanyak juga terjadi dimana tidak berdekatan dengan hari khusus atau libur"
   ]
  },
  {
   "cell_type": "markdown",
   "metadata": {},
   "source": [
    "### Korelasi antar Features"
   ]
  },
  {
   "cell_type": "code",
   "execution_count": 65,
   "metadata": {},
   "outputs": [],
   "source": [
    "from sklearn.preprocessing import LabelEncoder"
   ]
  },
  {
   "cell_type": "code",
   "execution_count": 66,
   "metadata": {},
   "outputs": [
    {
     "data": {
      "text/html": [
       "<div>\n",
       "<style scoped>\n",
       "    .dataframe tbody tr th:only-of-type {\n",
       "        vertical-align: middle;\n",
       "    }\n",
       "\n",
       "    .dataframe tbody tr th {\n",
       "        vertical-align: top;\n",
       "    }\n",
       "\n",
       "    .dataframe thead th {\n",
       "        text-align: right;\n",
       "    }\n",
       "</style>\n",
       "<table border=\"1\" class=\"dataframe\">\n",
       "  <thead>\n",
       "    <tr style=\"text-align: right;\">\n",
       "      <th></th>\n",
       "      <th>Administrative</th>\n",
       "      <th>Administrative_Duration</th>\n",
       "      <th>Informational</th>\n",
       "      <th>Informational_Duration</th>\n",
       "      <th>ProductRelated</th>\n",
       "      <th>ProductRelated_Duration</th>\n",
       "      <th>BounceRates</th>\n",
       "      <th>ExitRates</th>\n",
       "      <th>PageValues</th>\n",
       "      <th>SpecialDay</th>\n",
       "      <th>Month</th>\n",
       "      <th>OperatingSystems</th>\n",
       "      <th>Browser</th>\n",
       "      <th>Region</th>\n",
       "      <th>TrafficType</th>\n",
       "      <th>VisitorType</th>\n",
       "      <th>Weekend</th>\n",
       "      <th>Revenue</th>\n",
       "    </tr>\n",
       "  </thead>\n",
       "  <tbody>\n",
       "    <tr>\n",
       "      <td>0</td>\n",
       "      <td>0</td>\n",
       "      <td>0.0</td>\n",
       "      <td>0</td>\n",
       "      <td>0.0</td>\n",
       "      <td>1</td>\n",
       "      <td>0.000000</td>\n",
       "      <td>0.20</td>\n",
       "      <td>0.20</td>\n",
       "      <td>0.0</td>\n",
       "      <td>0.0</td>\n",
       "      <td>Feb</td>\n",
       "      <td>1</td>\n",
       "      <td>1</td>\n",
       "      <td>1</td>\n",
       "      <td>1</td>\n",
       "      <td>Returning_Visitor</td>\n",
       "      <td>False</td>\n",
       "      <td>0</td>\n",
       "    </tr>\n",
       "    <tr>\n",
       "      <td>1</td>\n",
       "      <td>0</td>\n",
       "      <td>0.0</td>\n",
       "      <td>0</td>\n",
       "      <td>0.0</td>\n",
       "      <td>2</td>\n",
       "      <td>64.000000</td>\n",
       "      <td>0.00</td>\n",
       "      <td>0.10</td>\n",
       "      <td>0.0</td>\n",
       "      <td>0.0</td>\n",
       "      <td>Feb</td>\n",
       "      <td>2</td>\n",
       "      <td>2</td>\n",
       "      <td>1</td>\n",
       "      <td>2</td>\n",
       "      <td>Returning_Visitor</td>\n",
       "      <td>False</td>\n",
       "      <td>0</td>\n",
       "    </tr>\n",
       "    <tr>\n",
       "      <td>2</td>\n",
       "      <td>0</td>\n",
       "      <td>0.0</td>\n",
       "      <td>0</td>\n",
       "      <td>0.0</td>\n",
       "      <td>1</td>\n",
       "      <td>0.000000</td>\n",
       "      <td>0.20</td>\n",
       "      <td>0.20</td>\n",
       "      <td>0.0</td>\n",
       "      <td>0.0</td>\n",
       "      <td>Feb</td>\n",
       "      <td>4</td>\n",
       "      <td>1</td>\n",
       "      <td>9</td>\n",
       "      <td>3</td>\n",
       "      <td>Returning_Visitor</td>\n",
       "      <td>False</td>\n",
       "      <td>0</td>\n",
       "    </tr>\n",
       "    <tr>\n",
       "      <td>3</td>\n",
       "      <td>0</td>\n",
       "      <td>0.0</td>\n",
       "      <td>0</td>\n",
       "      <td>0.0</td>\n",
       "      <td>2</td>\n",
       "      <td>2.666667</td>\n",
       "      <td>0.05</td>\n",
       "      <td>0.14</td>\n",
       "      <td>0.0</td>\n",
       "      <td>0.0</td>\n",
       "      <td>Feb</td>\n",
       "      <td>3</td>\n",
       "      <td>2</td>\n",
       "      <td>2</td>\n",
       "      <td>4</td>\n",
       "      <td>Returning_Visitor</td>\n",
       "      <td>False</td>\n",
       "      <td>0</td>\n",
       "    </tr>\n",
       "    <tr>\n",
       "      <td>4</td>\n",
       "      <td>0</td>\n",
       "      <td>0.0</td>\n",
       "      <td>0</td>\n",
       "      <td>0.0</td>\n",
       "      <td>10</td>\n",
       "      <td>627.500000</td>\n",
       "      <td>0.02</td>\n",
       "      <td>0.05</td>\n",
       "      <td>0.0</td>\n",
       "      <td>0.0</td>\n",
       "      <td>Feb</td>\n",
       "      <td>3</td>\n",
       "      <td>3</td>\n",
       "      <td>1</td>\n",
       "      <td>4</td>\n",
       "      <td>Returning_Visitor</td>\n",
       "      <td>True</td>\n",
       "      <td>0</td>\n",
       "    </tr>\n",
       "  </tbody>\n",
       "</table>\n",
       "</div>"
      ],
      "text/plain": [
       "   Administrative  Administrative_Duration  Informational  \\\n",
       "0               0                      0.0              0   \n",
       "1               0                      0.0              0   \n",
       "2               0                      0.0              0   \n",
       "3               0                      0.0              0   \n",
       "4               0                      0.0              0   \n",
       "\n",
       "   Informational_Duration  ProductRelated  ProductRelated_Duration  \\\n",
       "0                     0.0               1                 0.000000   \n",
       "1                     0.0               2                64.000000   \n",
       "2                     0.0               1                 0.000000   \n",
       "3                     0.0               2                 2.666667   \n",
       "4                     0.0              10               627.500000   \n",
       "\n",
       "   BounceRates  ExitRates  PageValues  SpecialDay Month  OperatingSystems  \\\n",
       "0         0.20       0.20         0.0         0.0   Feb                 1   \n",
       "1         0.00       0.10         0.0         0.0   Feb                 2   \n",
       "2         0.20       0.20         0.0         0.0   Feb                 4   \n",
       "3         0.05       0.14         0.0         0.0   Feb                 3   \n",
       "4         0.02       0.05         0.0         0.0   Feb                 3   \n",
       "\n",
       "   Browser  Region  TrafficType        VisitorType  Weekend  Revenue  \n",
       "0        1       1            1  Returning_Visitor    False        0  \n",
       "1        2       1            2  Returning_Visitor    False        0  \n",
       "2        1       9            3  Returning_Visitor    False        0  \n",
       "3        2       2            4  Returning_Visitor    False        0  \n",
       "4        3       1            4  Returning_Visitor     True        0  "
      ]
     },
     "execution_count": 66,
     "metadata": {},
     "output_type": "execute_result"
    }
   ],
   "source": [
    "label = LabelEncoder()\n",
    "df['Revenue'] = label.fit_transform(df['Revenue'])\n",
    "df.head()"
   ]
  },
  {
   "cell_type": "code",
   "execution_count": 68,
   "metadata": {},
   "outputs": [
    {
     "data": {
      "text/html": [
       "<style  type=\"text/css\" >\n",
       "    #T_102fb63e_7011_11ea_b6a6_d0abd5af0a72row0_col0 {\n",
       "            background-color:  #023858;\n",
       "            color:  #f1f1f1;\n",
       "        }    #T_102fb63e_7011_11ea_b6a6_d0abd5af0a72row0_col1 {\n",
       "            background-color:  #2484ba;\n",
       "            color:  #000000;\n",
       "        }    #T_102fb63e_7011_11ea_b6a6_d0abd5af0a72row0_col2 {\n",
       "            background-color:  #83afd3;\n",
       "            color:  #000000;\n",
       "        }    #T_102fb63e_7011_11ea_b6a6_d0abd5af0a72row0_col3 {\n",
       "            background-color:  #b7c5df;\n",
       "            color:  #000000;\n",
       "        }    #T_102fb63e_7011_11ea_b6a6_d0abd5af0a72row0_col4 {\n",
       "            background-color:  #569dc8;\n",
       "            color:  #000000;\n",
       "        }    #T_102fb63e_7011_11ea_b6a6_d0abd5af0a72row0_col5 {\n",
       "            background-color:  #75a9cf;\n",
       "            color:  #000000;\n",
       "        }    #T_102fb63e_7011_11ea_b6a6_d0abd5af0a72row0_col6 {\n",
       "            background-color:  #fff7fb;\n",
       "            color:  #000000;\n",
       "        }    #T_102fb63e_7011_11ea_b6a6_d0abd5af0a72row0_col7 {\n",
       "            background-color:  #fff7fb;\n",
       "            color:  #000000;\n",
       "        }    #T_102fb63e_7011_11ea_b6a6_d0abd5af0a72row0_col8 {\n",
       "            background-color:  #d4d4e8;\n",
       "            color:  #000000;\n",
       "        }    #T_102fb63e_7011_11ea_b6a6_d0abd5af0a72row0_col9 {\n",
       "            background-color:  #fff7fb;\n",
       "            color:  #000000;\n",
       "        }    #T_102fb63e_7011_11ea_b6a6_d0abd5af0a72row0_col10 {\n",
       "            background-color:  #fef6fa;\n",
       "            color:  #000000;\n",
       "        }    #T_102fb63e_7011_11ea_b6a6_d0abd5af0a72row0_col11 {\n",
       "            background-color:  #fdf5fa;\n",
       "            color:  #000000;\n",
       "        }    #T_102fb63e_7011_11ea_b6a6_d0abd5af0a72row0_col12 {\n",
       "            background-color:  #faf3f9;\n",
       "            color:  #000000;\n",
       "        }    #T_102fb63e_7011_11ea_b6a6_d0abd5af0a72row0_col13 {\n",
       "            background-color:  #fef6fa;\n",
       "            color:  #000000;\n",
       "        }    #T_102fb63e_7011_11ea_b6a6_d0abd5af0a72row0_col14 {\n",
       "            background-color:  #f2ecf5;\n",
       "            color:  #000000;\n",
       "        }    #T_102fb63e_7011_11ea_b6a6_d0abd5af0a72row0_col15 {\n",
       "            background-color:  #c4cbe3;\n",
       "            color:  #000000;\n",
       "        }    #T_102fb63e_7011_11ea_b6a6_d0abd5af0a72row1_col0 {\n",
       "            background-color:  #197db7;\n",
       "            color:  #000000;\n",
       "        }    #T_102fb63e_7011_11ea_b6a6_d0abd5af0a72row1_col1 {\n",
       "            background-color:  #023858;\n",
       "            color:  #f1f1f1;\n",
       "        }    #T_102fb63e_7011_11ea_b6a6_d0abd5af0a72row1_col2 {\n",
       "            background-color:  #9cb9d9;\n",
       "            color:  #000000;\n",
       "        }    #T_102fb63e_7011_11ea_b6a6_d0abd5af0a72row1_col3 {\n",
       "            background-color:  #bcc7e1;\n",
       "            color:  #000000;\n",
       "        }    #T_102fb63e_7011_11ea_b6a6_d0abd5af0a72row1_col4 {\n",
       "            background-color:  #88b1d4;\n",
       "            color:  #000000;\n",
       "        }    #T_102fb63e_7011_11ea_b6a6_d0abd5af0a72row1_col5 {\n",
       "            background-color:  #79abd0;\n",
       "            color:  #000000;\n",
       "        }    #T_102fb63e_7011_11ea_b6a6_d0abd5af0a72row1_col6 {\n",
       "            background-color:  #f5eff6;\n",
       "            color:  #000000;\n",
       "        }    #T_102fb63e_7011_11ea_b6a6_d0abd5af0a72row1_col7 {\n",
       "            background-color:  #f2ecf5;\n",
       "            color:  #000000;\n",
       "        }    #T_102fb63e_7011_11ea_b6a6_d0abd5af0a72row1_col8 {\n",
       "            background-color:  #dad9ea;\n",
       "            color:  #000000;\n",
       "        }    #T_102fb63e_7011_11ea_b6a6_d0abd5af0a72row1_col9 {\n",
       "            background-color:  #fcf4fa;\n",
       "            color:  #000000;\n",
       "        }    #T_102fb63e_7011_11ea_b6a6_d0abd5af0a72row1_col10 {\n",
       "            background-color:  #fef6fb;\n",
       "            color:  #000000;\n",
       "        }    #T_102fb63e_7011_11ea_b6a6_d0abd5af0a72row1_col11 {\n",
       "            background-color:  #fbf4f9;\n",
       "            color:  #000000;\n",
       "        }    #T_102fb63e_7011_11ea_b6a6_d0abd5af0a72row1_col12 {\n",
       "            background-color:  #faf3f9;\n",
       "            color:  #000000;\n",
       "        }    #T_102fb63e_7011_11ea_b6a6_d0abd5af0a72row1_col13 {\n",
       "            background-color:  #fbf3f9;\n",
       "            color:  #000000;\n",
       "        }    #T_102fb63e_7011_11ea_b6a6_d0abd5af0a72row1_col14 {\n",
       "            background-color:  #f4eef6;\n",
       "            color:  #000000;\n",
       "        }    #T_102fb63e_7011_11ea_b6a6_d0abd5af0a72row1_col15 {\n",
       "            background-color:  #d1d2e6;\n",
       "            color:  #000000;\n",
       "        }    #T_102fb63e_7011_11ea_b6a6_d0abd5af0a72row2_col0 {\n",
       "            background-color:  #67a4cc;\n",
       "            color:  #000000;\n",
       "        }    #T_102fb63e_7011_11ea_b6a6_d0abd5af0a72row2_col1 {\n",
       "            background-color:  #94b6d7;\n",
       "            color:  #000000;\n",
       "        }    #T_102fb63e_7011_11ea_b6a6_d0abd5af0a72row2_col2 {\n",
       "            background-color:  #023858;\n",
       "            color:  #f1f1f1;\n",
       "        }    #T_102fb63e_7011_11ea_b6a6_d0abd5af0a72row2_col3 {\n",
       "            background-color:  #2a88bc;\n",
       "            color:  #000000;\n",
       "        }    #T_102fb63e_7011_11ea_b6a6_d0abd5af0a72row2_col4 {\n",
       "            background-color:  #6ba5cd;\n",
       "            color:  #000000;\n",
       "        }    #T_102fb63e_7011_11ea_b6a6_d0abd5af0a72row2_col5 {\n",
       "            background-color:  #6fa7ce;\n",
       "            color:  #000000;\n",
       "        }    #T_102fb63e_7011_11ea_b6a6_d0abd5af0a72row2_col6 {\n",
       "            background-color:  #f2ecf5;\n",
       "            color:  #000000;\n",
       "        }    #T_102fb63e_7011_11ea_b6a6_d0abd5af0a72row2_col7 {\n",
       "            background-color:  #eee8f3;\n",
       "            color:  #000000;\n",
       "        }    #T_102fb63e_7011_11ea_b6a6_d0abd5af0a72row2_col8 {\n",
       "            background-color:  #dedcec;\n",
       "            color:  #000000;\n",
       "        }    #T_102fb63e_7011_11ea_b6a6_d0abd5af0a72row2_col9 {\n",
       "            background-color:  #f9f2f8;\n",
       "            color:  #000000;\n",
       "        }    #T_102fb63e_7011_11ea_b6a6_d0abd5af0a72row2_col10 {\n",
       "            background-color:  #fef6fb;\n",
       "            color:  #000000;\n",
       "        }    #T_102fb63e_7011_11ea_b6a6_d0abd5af0a72row2_col11 {\n",
       "            background-color:  #fff7fb;\n",
       "            color:  #000000;\n",
       "        }    #T_102fb63e_7011_11ea_b6a6_d0abd5af0a72row2_col12 {\n",
       "            background-color:  #fef6fa;\n",
       "            color:  #000000;\n",
       "        }    #T_102fb63e_7011_11ea_b6a6_d0abd5af0a72row2_col13 {\n",
       "            background-color:  #fef6fa;\n",
       "            color:  #000000;\n",
       "        }    #T_102fb63e_7011_11ea_b6a6_d0abd5af0a72row2_col14 {\n",
       "            background-color:  #f1ebf5;\n",
       "            color:  #000000;\n",
       "        }    #T_102fb63e_7011_11ea_b6a6_d0abd5af0a72row2_col15 {\n",
       "            background-color:  #d0d1e6;\n",
       "            color:  #000000;\n",
       "        }    #T_102fb63e_7011_11ea_b6a6_d0abd5af0a72row3_col0 {\n",
       "            background-color:  #8eb3d5;\n",
       "            color:  #000000;\n",
       "        }    #T_102fb63e_7011_11ea_b6a6_d0abd5af0a72row3_col1 {\n",
       "            background-color:  #a8bedc;\n",
       "            color:  #000000;\n",
       "        }    #T_102fb63e_7011_11ea_b6a6_d0abd5af0a72row3_col2 {\n",
       "            background-color:  #2383ba;\n",
       "            color:  #000000;\n",
       "        }    #T_102fb63e_7011_11ea_b6a6_d0abd5af0a72row3_col3 {\n",
       "            background-color:  #023858;\n",
       "            color:  #f1f1f1;\n",
       "        }    #T_102fb63e_7011_11ea_b6a6_d0abd5af0a72row3_col4 {\n",
       "            background-color:  #8bb2d4;\n",
       "            color:  #000000;\n",
       "        }    #T_102fb63e_7011_11ea_b6a6_d0abd5af0a72row3_col5 {\n",
       "            background-color:  #7dacd1;\n",
       "            color:  #000000;\n",
       "        }    #T_102fb63e_7011_11ea_b6a6_d0abd5af0a72row3_col6 {\n",
       "            background-color:  #ede7f2;\n",
       "            color:  #000000;\n",
       "        }    #T_102fb63e_7011_11ea_b6a6_d0abd5af0a72row3_col7 {\n",
       "            background-color:  #e4e1ef;\n",
       "            color:  #000000;\n",
       "        }    #T_102fb63e_7011_11ea_b6a6_d0abd5af0a72row3_col8 {\n",
       "            background-color:  #e1dfed;\n",
       "            color:  #000000;\n",
       "        }    #T_102fb63e_7011_11ea_b6a6_d0abd5af0a72row3_col9 {\n",
       "            background-color:  #f6eff7;\n",
       "            color:  #000000;\n",
       "        }    #T_102fb63e_7011_11ea_b6a6_d0abd5af0a72row3_col10 {\n",
       "            background-color:  #fef6fb;\n",
       "            color:  #000000;\n",
       "        }    #T_102fb63e_7011_11ea_b6a6_d0abd5af0a72row3_col11 {\n",
       "            background-color:  #fcf4fa;\n",
       "            color:  #000000;\n",
       "        }    #T_102fb63e_7011_11ea_b6a6_d0abd5af0a72row3_col12 {\n",
       "            background-color:  #fef6fa;\n",
       "            color:  #000000;\n",
       "        }    #T_102fb63e_7011_11ea_b6a6_d0abd5af0a72row3_col13 {\n",
       "            background-color:  #fdf5fa;\n",
       "            color:  #000000;\n",
       "        }    #T_102fb63e_7011_11ea_b6a6_d0abd5af0a72row3_col14 {\n",
       "            background-color:  #f3edf5;\n",
       "            color:  #000000;\n",
       "        }    #T_102fb63e_7011_11ea_b6a6_d0abd5af0a72row3_col15 {\n",
       "            background-color:  #d5d5e8;\n",
       "            color:  #000000;\n",
       "        }    #T_102fb63e_7011_11ea_b6a6_d0abd5af0a72row4_col0 {\n",
       "            background-color:  #529bc7;\n",
       "            color:  #000000;\n",
       "        }    #T_102fb63e_7011_11ea_b6a6_d0abd5af0a72row4_col1 {\n",
       "            background-color:  #97b7d7;\n",
       "            color:  #000000;\n",
       "        }    #T_102fb63e_7011_11ea_b6a6_d0abd5af0a72row4_col2 {\n",
       "            background-color:  #83afd3;\n",
       "            color:  #000000;\n",
       "        }    #T_102fb63e_7011_11ea_b6a6_d0abd5af0a72row4_col3 {\n",
       "            background-color:  #afc1dd;\n",
       "            color:  #000000;\n",
       "        }    #T_102fb63e_7011_11ea_b6a6_d0abd5af0a72row4_col4 {\n",
       "            background-color:  #023858;\n",
       "            color:  #f1f1f1;\n",
       "        }    #T_102fb63e_7011_11ea_b6a6_d0abd5af0a72row4_col5 {\n",
       "            background-color:  #045687;\n",
       "            color:  #f1f1f1;\n",
       "        }    #T_102fb63e_7011_11ea_b6a6_d0abd5af0a72row4_col6 {\n",
       "            background-color:  #fdf5fa;\n",
       "            color:  #000000;\n",
       "        }    #T_102fb63e_7011_11ea_b6a6_d0abd5af0a72row4_col7 {\n",
       "            background-color:  #fdf5fa;\n",
       "            color:  #000000;\n",
       "        }    #T_102fb63e_7011_11ea_b6a6_d0abd5af0a72row4_col8 {\n",
       "            background-color:  #dcdaeb;\n",
       "            color:  #000000;\n",
       "        }    #T_102fb63e_7011_11ea_b6a6_d0abd5af0a72row4_col9 {\n",
       "            background-color:  #f5eff6;\n",
       "            color:  #000000;\n",
       "        }    #T_102fb63e_7011_11ea_b6a6_d0abd5af0a72row4_col10 {\n",
       "            background-color:  #fdf5fa;\n",
       "            color:  #000000;\n",
       "        }    #T_102fb63e_7011_11ea_b6a6_d0abd5af0a72row4_col11 {\n",
       "            background-color:  #fbf4f9;\n",
       "            color:  #000000;\n",
       "        }    #T_102fb63e_7011_11ea_b6a6_d0abd5af0a72row4_col12 {\n",
       "            background-color:  #fff7fb;\n",
       "            color:  #000000;\n",
       "        }    #T_102fb63e_7011_11ea_b6a6_d0abd5af0a72row4_col13 {\n",
       "            background-color:  #fff7fb;\n",
       "            color:  #000000;\n",
       "        }    #T_102fb63e_7011_11ea_b6a6_d0abd5af0a72row4_col14 {\n",
       "            background-color:  #f4eef6;\n",
       "            color:  #000000;\n",
       "        }    #T_102fb63e_7011_11ea_b6a6_d0abd5af0a72row4_col15 {\n",
       "            background-color:  #bfc9e1;\n",
       "            color:  #000000;\n",
       "        }    #T_102fb63e_7011_11ea_b6a6_d0abd5af0a72row5_col0 {\n",
       "            background-color:  #67a4cc;\n",
       "            color:  #000000;\n",
       "        }    #T_102fb63e_7011_11ea_b6a6_d0abd5af0a72row5_col1 {\n",
       "            background-color:  #81aed2;\n",
       "            color:  #000000;\n",
       "        }    #T_102fb63e_7011_11ea_b6a6_d0abd5af0a72row5_col2 {\n",
       "            background-color:  #7eadd1;\n",
       "            color:  #000000;\n",
       "        }    #T_102fb63e_7011_11ea_b6a6_d0abd5af0a72row5_col3 {\n",
       "            background-color:  #99b8d8;\n",
       "            color:  #000000;\n",
       "        }    #T_102fb63e_7011_11ea_b6a6_d0abd5af0a72row5_col4 {\n",
       "            background-color:  #045585;\n",
       "            color:  #f1f1f1;\n",
       "        }    #T_102fb63e_7011_11ea_b6a6_d0abd5af0a72row5_col5 {\n",
       "            background-color:  #023858;\n",
       "            color:  #f1f1f1;\n",
       "        }    #T_102fb63e_7011_11ea_b6a6_d0abd5af0a72row5_col6 {\n",
       "            background-color:  #faf3f9;\n",
       "            color:  #000000;\n",
       "        }    #T_102fb63e_7011_11ea_b6a6_d0abd5af0a72row5_col7 {\n",
       "            background-color:  #f8f1f8;\n",
       "            color:  #000000;\n",
       "        }    #T_102fb63e_7011_11ea_b6a6_d0abd5af0a72row5_col8 {\n",
       "            background-color:  #dddbec;\n",
       "            color:  #000000;\n",
       "        }    #T_102fb63e_7011_11ea_b6a6_d0abd5af0a72row5_col9 {\n",
       "            background-color:  #f7f0f7;\n",
       "            color:  #000000;\n",
       "        }    #T_102fb63e_7011_11ea_b6a6_d0abd5af0a72row5_col10 {\n",
       "            background-color:  #fdf5fa;\n",
       "            color:  #000000;\n",
       "        }    #T_102fb63e_7011_11ea_b6a6_d0abd5af0a72row5_col11 {\n",
       "            background-color:  #faf3f9;\n",
       "            color:  #000000;\n",
       "        }    #T_102fb63e_7011_11ea_b6a6_d0abd5af0a72row5_col12 {\n",
       "            background-color:  #fef6fb;\n",
       "            color:  #000000;\n",
       "        }    #T_102fb63e_7011_11ea_b6a6_d0abd5af0a72row5_col13 {\n",
       "            background-color:  #fef6fb;\n",
       "            color:  #000000;\n",
       "        }    #T_102fb63e_7011_11ea_b6a6_d0abd5af0a72row5_col14 {\n",
       "            background-color:  #f5eff6;\n",
       "            color:  #000000;\n",
       "        }    #T_102fb63e_7011_11ea_b6a6_d0abd5af0a72row5_col15 {\n",
       "            background-color:  #c0c9e2;\n",
       "            color:  #000000;\n",
       "        }    #T_102fb63e_7011_11ea_b6a6_d0abd5af0a72row6_col0 {\n",
       "            background-color:  #f4eef6;\n",
       "            color:  #000000;\n",
       "        }    #T_102fb63e_7011_11ea_b6a6_d0abd5af0a72row6_col1 {\n",
       "            background-color:  #f7f0f7;\n",
       "            color:  #000000;\n",
       "        }    #T_102fb63e_7011_11ea_b6a6_d0abd5af0a72row6_col2 {\n",
       "            background-color:  #f9f2f8;\n",
       "            color:  #000000;\n",
       "        }    #T_102fb63e_7011_11ea_b6a6_d0abd5af0a72row6_col3 {\n",
       "            background-color:  #fbf3f9;\n",
       "            color:  #000000;\n",
       "        }    #T_102fb63e_7011_11ea_b6a6_d0abd5af0a72row6_col4 {\n",
       "            background-color:  #f5eef6;\n",
       "            color:  #000000;\n",
       "        }    #T_102fb63e_7011_11ea_b6a6_d0abd5af0a72row6_col5 {\n",
       "            background-color:  #f7f0f7;\n",
       "            color:  #000000;\n",
       "        }    #T_102fb63e_7011_11ea_b6a6_d0abd5af0a72row6_col6 {\n",
       "            background-color:  #023858;\n",
       "            color:  #f1f1f1;\n",
       "        }    #T_102fb63e_7011_11ea_b6a6_d0abd5af0a72row6_col7 {\n",
       "            background-color:  #034973;\n",
       "            color:  #f1f1f1;\n",
       "        }    #T_102fb63e_7011_11ea_b6a6_d0abd5af0a72row6_col8 {\n",
       "            background-color:  #f8f1f8;\n",
       "            color:  #000000;\n",
       "        }    #T_102fb63e_7011_11ea_b6a6_d0abd5af0a72row6_col9 {\n",
       "            background-color:  #e6e2ef;\n",
       "            color:  #000000;\n",
       "        }    #T_102fb63e_7011_11ea_b6a6_d0abd5af0a72row6_col10 {\n",
       "            background-color:  #faf2f8;\n",
       "            color:  #000000;\n",
       "        }    #T_102fb63e_7011_11ea_b6a6_d0abd5af0a72row6_col11 {\n",
       "            background-color:  #fbf4f9;\n",
       "            color:  #000000;\n",
       "        }    #T_102fb63e_7011_11ea_b6a6_d0abd5af0a72row6_col12 {\n",
       "            background-color:  #fbf3f9;\n",
       "            color:  #000000;\n",
       "        }    #T_102fb63e_7011_11ea_b6a6_d0abd5af0a72row6_col13 {\n",
       "            background-color:  #eee8f3;\n",
       "            color:  #000000;\n",
       "        }    #T_102fb63e_7011_11ea_b6a6_d0abd5af0a72row6_col14 {\n",
       "            background-color:  #fdf5fa;\n",
       "            color:  #000000;\n",
       "        }    #T_102fb63e_7011_11ea_b6a6_d0abd5af0a72row6_col15 {\n",
       "            background-color:  #f8f1f8;\n",
       "            color:  #000000;\n",
       "        }    #T_102fb63e_7011_11ea_b6a6_d0abd5af0a72row7_col0 {\n",
       "            background-color:  #fff7fb;\n",
       "            color:  #000000;\n",
       "        }    #T_102fb63e_7011_11ea_b6a6_d0abd5af0a72row7_col1 {\n",
       "            background-color:  #fff7fb;\n",
       "            color:  #000000;\n",
       "        }    #T_102fb63e_7011_11ea_b6a6_d0abd5af0a72row7_col2 {\n",
       "            background-color:  #fff7fb;\n",
       "            color:  #000000;\n",
       "        }    #T_102fb63e_7011_11ea_b6a6_d0abd5af0a72row7_col3 {\n",
       "            background-color:  #fff7fb;\n",
       "            color:  #000000;\n",
       "        }    #T_102fb63e_7011_11ea_b6a6_d0abd5af0a72row7_col4 {\n",
       "            background-color:  #fff7fb;\n",
       "            color:  #000000;\n",
       "        }    #T_102fb63e_7011_11ea_b6a6_d0abd5af0a72row7_col5 {\n",
       "            background-color:  #fff7fb;\n",
       "            color:  #000000;\n",
       "        }    #T_102fb63e_7011_11ea_b6a6_d0abd5af0a72row7_col6 {\n",
       "            background-color:  #034b76;\n",
       "            color:  #f1f1f1;\n",
       "        }    #T_102fb63e_7011_11ea_b6a6_d0abd5af0a72row7_col7 {\n",
       "            background-color:  #023858;\n",
       "            color:  #f1f1f1;\n",
       "        }    #T_102fb63e_7011_11ea_b6a6_d0abd5af0a72row7_col8 {\n",
       "            background-color:  #fff7fb;\n",
       "            color:  #000000;\n",
       "        }    #T_102fb63e_7011_11ea_b6a6_d0abd5af0a72row7_col9 {\n",
       "            background-color:  #e0dded;\n",
       "            color:  #000000;\n",
       "        }    #T_102fb63e_7011_11ea_b6a6_d0abd5af0a72row7_col10 {\n",
       "            background-color:  #fbf3f9;\n",
       "            color:  #000000;\n",
       "        }    #T_102fb63e_7011_11ea_b6a6_d0abd5af0a72row7_col11 {\n",
       "            background-color:  #faf3f9;\n",
       "            color:  #000000;\n",
       "        }    #T_102fb63e_7011_11ea_b6a6_d0abd5af0a72row7_col12 {\n",
       "            background-color:  #fbf3f9;\n",
       "            color:  #000000;\n",
       "        }    #T_102fb63e_7011_11ea_b6a6_d0abd5af0a72row7_col13 {\n",
       "            background-color:  #eee8f3;\n",
       "            color:  #000000;\n",
       "        }    #T_102fb63e_7011_11ea_b6a6_d0abd5af0a72row7_col14 {\n",
       "            background-color:  #fff7fb;\n",
       "            color:  #000000;\n",
       "        }    #T_102fb63e_7011_11ea_b6a6_d0abd5af0a72row7_col15 {\n",
       "            background-color:  #fff7fb;\n",
       "            color:  #000000;\n",
       "        }    #T_102fb63e_7011_11ea_b6a6_d0abd5af0a72row8_col0 {\n",
       "            background-color:  #bbc7e0;\n",
       "            color:  #000000;\n",
       "        }    #T_102fb63e_7011_11ea_b6a6_d0abd5af0a72row8_col1 {\n",
       "            background-color:  #d5d5e8;\n",
       "            color:  #000000;\n",
       "        }    #T_102fb63e_7011_11ea_b6a6_d0abd5af0a72row8_col2 {\n",
       "            background-color:  #e0dded;\n",
       "            color:  #000000;\n",
       "        }    #T_102fb63e_7011_11ea_b6a6_d0abd5af0a72row8_col3 {\n",
       "            background-color:  #ede7f2;\n",
       "            color:  #000000;\n",
       "        }    #T_102fb63e_7011_11ea_b6a6_d0abd5af0a72row8_col4 {\n",
       "            background-color:  #c9cee4;\n",
       "            color:  #000000;\n",
       "        }    #T_102fb63e_7011_11ea_b6a6_d0abd5af0a72row8_col5 {\n",
       "            background-color:  #d2d2e7;\n",
       "            color:  #000000;\n",
       "        }    #T_102fb63e_7011_11ea_b6a6_d0abd5af0a72row8_col6 {\n",
       "            background-color:  #f2ecf5;\n",
       "            color:  #000000;\n",
       "        }    #T_102fb63e_7011_11ea_b6a6_d0abd5af0a72row8_col7 {\n",
       "            background-color:  #efe9f3;\n",
       "            color:  #000000;\n",
       "        }    #T_102fb63e_7011_11ea_b6a6_d0abd5af0a72row8_col8 {\n",
       "            background-color:  #023858;\n",
       "            color:  #f1f1f1;\n",
       "        }    #T_102fb63e_7011_11ea_b6a6_d0abd5af0a72row8_col9 {\n",
       "            background-color:  #fbf3f9;\n",
       "            color:  #000000;\n",
       "        }    #T_102fb63e_7011_11ea_b6a6_d0abd5af0a72row8_col10 {\n",
       "            background-color:  #faf3f9;\n",
       "            color:  #000000;\n",
       "        }    #T_102fb63e_7011_11ea_b6a6_d0abd5af0a72row8_col11 {\n",
       "            background-color:  #f2ecf5;\n",
       "            color:  #000000;\n",
       "        }    #T_102fb63e_7011_11ea_b6a6_d0abd5af0a72row8_col12 {\n",
       "            background-color:  #f8f1f8;\n",
       "            color:  #000000;\n",
       "        }    #T_102fb63e_7011_11ea_b6a6_d0abd5af0a72row8_col13 {\n",
       "            background-color:  #f7f0f7;\n",
       "            color:  #000000;\n",
       "        }    #T_102fb63e_7011_11ea_b6a6_d0abd5af0a72row8_col14 {\n",
       "            background-color:  #f5eef6;\n",
       "            color:  #000000;\n",
       "        }    #T_102fb63e_7011_11ea_b6a6_d0abd5af0a72row8_col15 {\n",
       "            background-color:  #4c99c5;\n",
       "            color:  #000000;\n",
       "        }    #T_102fb63e_7011_11ea_b6a6_d0abd5af0a72row9_col0 {\n",
       "            background-color:  #e2dfee;\n",
       "            color:  #000000;\n",
       "        }    #T_102fb63e_7011_11ea_b6a6_d0abd5af0a72row9_col1 {\n",
       "            background-color:  #eee9f3;\n",
       "            color:  #000000;\n",
       "        }    #T_102fb63e_7011_11ea_b6a6_d0abd5af0a72row9_col2 {\n",
       "            background-color:  #f0eaf4;\n",
       "            color:  #000000;\n",
       "        }    #T_102fb63e_7011_11ea_b6a6_d0abd5af0a72row9_col3 {\n",
       "            background-color:  #f5eef6;\n",
       "            color:  #000000;\n",
       "        }    #T_102fb63e_7011_11ea_b6a6_d0abd5af0a72row9_col4 {\n",
       "            background-color:  #d9d8ea;\n",
       "            color:  #000000;\n",
       "        }    #T_102fb63e_7011_11ea_b6a6_d0abd5af0a72row9_col5 {\n",
       "            background-color:  #e1dfed;\n",
       "            color:  #000000;\n",
       "        }    #T_102fb63e_7011_11ea_b6a6_d0abd5af0a72row9_col6 {\n",
       "            background-color:  #d2d3e7;\n",
       "            color:  #000000;\n",
       "        }    #T_102fb63e_7011_11ea_b6a6_d0abd5af0a72row9_col7 {\n",
       "            background-color:  #b9c6e0;\n",
       "            color:  #000000;\n",
       "        }    #T_102fb63e_7011_11ea_b6a6_d0abd5af0a72row9_col8 {\n",
       "            background-color:  #f1ebf4;\n",
       "            color:  #000000;\n",
       "        }    #T_102fb63e_7011_11ea_b6a6_d0abd5af0a72row9_col9 {\n",
       "            background-color:  #023858;\n",
       "            color:  #f1f1f1;\n",
       "        }    #T_102fb63e_7011_11ea_b6a6_d0abd5af0a72row9_col10 {\n",
       "            background-color:  #fbf4f9;\n",
       "            color:  #000000;\n",
       "        }    #T_102fb63e_7011_11ea_b6a6_d0abd5af0a72row9_col11 {\n",
       "            background-color:  #f9f2f8;\n",
       "            color:  #000000;\n",
       "        }    #T_102fb63e_7011_11ea_b6a6_d0abd5af0a72row9_col12 {\n",
       "            background-color:  #fcf4fa;\n",
       "            color:  #000000;\n",
       "        }    #T_102fb63e_7011_11ea_b6a6_d0abd5af0a72row9_col13 {\n",
       "            background-color:  #f1ebf5;\n",
       "            color:  #000000;\n",
       "        }    #T_102fb63e_7011_11ea_b6a6_d0abd5af0a72row9_col14 {\n",
       "            background-color:  #f8f1f8;\n",
       "            color:  #000000;\n",
       "        }    #T_102fb63e_7011_11ea_b6a6_d0abd5af0a72row9_col15 {\n",
       "            background-color:  #f0eaf4;\n",
       "            color:  #000000;\n",
       "        }    #T_102fb63e_7011_11ea_b6a6_d0abd5af0a72row10_col0 {\n",
       "            background-color:  #d3d4e7;\n",
       "            color:  #000000;\n",
       "        }    #T_102fb63e_7011_11ea_b6a6_d0abd5af0a72row10_col1 {\n",
       "            background-color:  #e3e0ee;\n",
       "            color:  #000000;\n",
       "        }    #T_102fb63e_7011_11ea_b6a6_d0abd5af0a72row10_col2 {\n",
       "            background-color:  #ebe6f2;\n",
       "            color:  #000000;\n",
       "        }    #T_102fb63e_7011_11ea_b6a6_d0abd5af0a72row10_col3 {\n",
       "            background-color:  #f2ecf5;\n",
       "            color:  #000000;\n",
       "        }    #T_102fb63e_7011_11ea_b6a6_d0abd5af0a72row10_col4 {\n",
       "            background-color:  #d5d5e8;\n",
       "            color:  #000000;\n",
       "        }    #T_102fb63e_7011_11ea_b6a6_d0abd5af0a72row10_col5 {\n",
       "            background-color:  #dad9ea;\n",
       "            color:  #000000;\n",
       "        }    #T_102fb63e_7011_11ea_b6a6_d0abd5af0a72row10_col6 {\n",
       "            background-color:  #dbdaeb;\n",
       "            color:  #000000;\n",
       "        }    #T_102fb63e_7011_11ea_b6a6_d0abd5af0a72row10_col7 {\n",
       "            background-color:  #d0d1e6;\n",
       "            color:  #000000;\n",
       "        }    #T_102fb63e_7011_11ea_b6a6_d0abd5af0a72row10_col8 {\n",
       "            background-color:  #e3e0ee;\n",
       "            color:  #000000;\n",
       "        }    #T_102fb63e_7011_11ea_b6a6_d0abd5af0a72row10_col9 {\n",
       "            background-color:  #f0eaf4;\n",
       "            color:  #000000;\n",
       "        }    #T_102fb63e_7011_11ea_b6a6_d0abd5af0a72row10_col10 {\n",
       "            background-color:  #023858;\n",
       "            color:  #f1f1f1;\n",
       "        }    #T_102fb63e_7011_11ea_b6a6_d0abd5af0a72row10_col11 {\n",
       "            background-color:  #d0d1e6;\n",
       "            color:  #000000;\n",
       "        }    #T_102fb63e_7011_11ea_b6a6_d0abd5af0a72row10_col12 {\n",
       "            background-color:  #eee9f3;\n",
       "            color:  #000000;\n",
       "        }    #T_102fb63e_7011_11ea_b6a6_d0abd5af0a72row10_col13 {\n",
       "            background-color:  #d7d6e9;\n",
       "            color:  #000000;\n",
       "        }    #T_102fb63e_7011_11ea_b6a6_d0abd5af0a72row10_col14 {\n",
       "            background-color:  #f6eff7;\n",
       "            color:  #000000;\n",
       "        }    #T_102fb63e_7011_11ea_b6a6_d0abd5af0a72row10_col15 {\n",
       "            background-color:  #e5e1ef;\n",
       "            color:  #000000;\n",
       "        }    #T_102fb63e_7011_11ea_b6a6_d0abd5af0a72row11_col0 {\n",
       "            background-color:  #d7d6e9;\n",
       "            color:  #000000;\n",
       "        }    #T_102fb63e_7011_11ea_b6a6_d0abd5af0a72row11_col1 {\n",
       "            background-color:  #e5e1ef;\n",
       "            color:  #000000;\n",
       "        }    #T_102fb63e_7011_11ea_b6a6_d0abd5af0a72row11_col2 {\n",
       "            background-color:  #efe9f3;\n",
       "            color:  #000000;\n",
       "        }    #T_102fb63e_7011_11ea_b6a6_d0abd5af0a72row11_col3 {\n",
       "            background-color:  #f4edf6;\n",
       "            color:  #000000;\n",
       "        }    #T_102fb63e_7011_11ea_b6a6_d0abd5af0a72row11_col4 {\n",
       "            background-color:  #d8d7e9;\n",
       "            color:  #000000;\n",
       "        }    #T_102fb63e_7011_11ea_b6a6_d0abd5af0a72row11_col5 {\n",
       "            background-color:  #dcdaeb;\n",
       "            color:  #000000;\n",
       "        }    #T_102fb63e_7011_11ea_b6a6_d0abd5af0a72row11_col6 {\n",
       "            background-color:  #e2dfee;\n",
       "            color:  #000000;\n",
       "        }    #T_102fb63e_7011_11ea_b6a6_d0abd5af0a72row11_col7 {\n",
       "            background-color:  #d3d4e7;\n",
       "            color:  #000000;\n",
       "        }    #T_102fb63e_7011_11ea_b6a6_d0abd5af0a72row11_col8 {\n",
       "            background-color:  #dfddec;\n",
       "            color:  #000000;\n",
       "        }    #T_102fb63e_7011_11ea_b6a6_d0abd5af0a72row11_col9 {\n",
       "            background-color:  #f2ecf5;\n",
       "            color:  #000000;\n",
       "        }    #T_102fb63e_7011_11ea_b6a6_d0abd5af0a72row11_col10 {\n",
       "            background-color:  #d4d4e8;\n",
       "            color:  #000000;\n",
       "        }    #T_102fb63e_7011_11ea_b6a6_d0abd5af0a72row11_col11 {\n",
       "            background-color:  #023858;\n",
       "            color:  #f1f1f1;\n",
       "        }    #T_102fb63e_7011_11ea_b6a6_d0abd5af0a72row11_col12 {\n",
       "            background-color:  #ebe6f2;\n",
       "            color:  #000000;\n",
       "        }    #T_102fb63e_7011_11ea_b6a6_d0abd5af0a72row11_col13 {\n",
       "            background-color:  #e7e3f0;\n",
       "            color:  #000000;\n",
       "        }    #T_102fb63e_7011_11ea_b6a6_d0abd5af0a72row11_col14 {\n",
       "            background-color:  #fcf4fa;\n",
       "            color:  #000000;\n",
       "        }    #T_102fb63e_7011_11ea_b6a6_d0abd5af0a72row11_col15 {\n",
       "            background-color:  #dddbec;\n",
       "            color:  #000000;\n",
       "        }    #T_102fb63e_7011_11ea_b6a6_d0abd5af0a72row12_col0 {\n",
       "            background-color:  #d3d4e7;\n",
       "            color:  #000000;\n",
       "        }    #T_102fb63e_7011_11ea_b6a6_d0abd5af0a72row12_col1 {\n",
       "            background-color:  #e3e0ee;\n",
       "            color:  #000000;\n",
       "        }    #T_102fb63e_7011_11ea_b6a6_d0abd5af0a72row12_col2 {\n",
       "            background-color:  #eee8f3;\n",
       "            color:  #000000;\n",
       "        }    #T_102fb63e_7011_11ea_b6a6_d0abd5af0a72row12_col3 {\n",
       "            background-color:  #f4eef6;\n",
       "            color:  #000000;\n",
       "        }    #T_102fb63e_7011_11ea_b6a6_d0abd5af0a72row12_col4 {\n",
       "            background-color:  #dcdaeb;\n",
       "            color:  #000000;\n",
       "        }    #T_102fb63e_7011_11ea_b6a6_d0abd5af0a72row12_col5 {\n",
       "            background-color:  #e1dfed;\n",
       "            color:  #000000;\n",
       "        }    #T_102fb63e_7011_11ea_b6a6_d0abd5af0a72row12_col6 {\n",
       "            background-color:  #e0deed;\n",
       "            color:  #000000;\n",
       "        }    #T_102fb63e_7011_11ea_b6a6_d0abd5af0a72row12_col7 {\n",
       "            background-color:  #d4d4e8;\n",
       "            color:  #000000;\n",
       "        }    #T_102fb63e_7011_11ea_b6a6_d0abd5af0a72row12_col8 {\n",
       "            background-color:  #e5e1ef;\n",
       "            color:  #000000;\n",
       "        }    #T_102fb63e_7011_11ea_b6a6_d0abd5af0a72row12_col9 {\n",
       "            background-color:  #f4eef6;\n",
       "            color:  #000000;\n",
       "        }    #T_102fb63e_7011_11ea_b6a6_d0abd5af0a72row12_col10 {\n",
       "            background-color:  #f1ebf5;\n",
       "            color:  #000000;\n",
       "        }    #T_102fb63e_7011_11ea_b6a6_d0abd5af0a72row12_col11 {\n",
       "            background-color:  #ebe6f2;\n",
       "            color:  #000000;\n",
       "        }    #T_102fb63e_7011_11ea_b6a6_d0abd5af0a72row12_col12 {\n",
       "            background-color:  #023858;\n",
       "            color:  #f1f1f1;\n",
       "        }    #T_102fb63e_7011_11ea_b6a6_d0abd5af0a72row12_col13 {\n",
       "            background-color:  #f2ecf5;\n",
       "            color:  #000000;\n",
       "        }    #T_102fb63e_7011_11ea_b6a6_d0abd5af0a72row12_col14 {\n",
       "            background-color:  #f7f0f7;\n",
       "            color:  #000000;\n",
       "        }    #T_102fb63e_7011_11ea_b6a6_d0abd5af0a72row12_col15 {\n",
       "            background-color:  #e4e1ef;\n",
       "            color:  #000000;\n",
       "        }    #T_102fb63e_7011_11ea_b6a6_d0abd5af0a72row13_col0 {\n",
       "            background-color:  #d8d7e9;\n",
       "            color:  #000000;\n",
       "        }    #T_102fb63e_7011_11ea_b6a6_d0abd5af0a72row13_col1 {\n",
       "            background-color:  #e5e1ef;\n",
       "            color:  #000000;\n",
       "        }    #T_102fb63e_7011_11ea_b6a6_d0abd5af0a72row13_col2 {\n",
       "            background-color:  #eee9f3;\n",
       "            color:  #000000;\n",
       "        }    #T_102fb63e_7011_11ea_b6a6_d0abd5af0a72row13_col3 {\n",
       "            background-color:  #f4eef6;\n",
       "            color:  #000000;\n",
       "        }    #T_102fb63e_7011_11ea_b6a6_d0abd5af0a72row13_col4 {\n",
       "            background-color:  #dddbec;\n",
       "            color:  #000000;\n",
       "        }    #T_102fb63e_7011_11ea_b6a6_d0abd5af0a72row13_col5 {\n",
       "            background-color:  #e1dfed;\n",
       "            color:  #000000;\n",
       "        }    #T_102fb63e_7011_11ea_b6a6_d0abd5af0a72row13_col6 {\n",
       "            background-color:  #d1d2e6;\n",
       "            color:  #000000;\n",
       "        }    #T_102fb63e_7011_11ea_b6a6_d0abd5af0a72row13_col7 {\n",
       "            background-color:  #c0c9e2;\n",
       "            color:  #000000;\n",
       "        }    #T_102fb63e_7011_11ea_b6a6_d0abd5af0a72row13_col8 {\n",
       "            background-color:  #e5e1ef;\n",
       "            color:  #000000;\n",
       "        }    #T_102fb63e_7011_11ea_b6a6_d0abd5af0a72row13_col9 {\n",
       "            background-color:  #eae6f1;\n",
       "            color:  #000000;\n",
       "        }    #T_102fb63e_7011_11ea_b6a6_d0abd5af0a72row13_col10 {\n",
       "            background-color:  #dbdaeb;\n",
       "            color:  #000000;\n",
       "        }    #T_102fb63e_7011_11ea_b6a6_d0abd5af0a72row13_col11 {\n",
       "            background-color:  #e7e3f0;\n",
       "            color:  #000000;\n",
       "        }    #T_102fb63e_7011_11ea_b6a6_d0abd5af0a72row13_col12 {\n",
       "            background-color:  #f2ecf5;\n",
       "            color:  #000000;\n",
       "        }    #T_102fb63e_7011_11ea_b6a6_d0abd5af0a72row13_col13 {\n",
       "            background-color:  #023858;\n",
       "            color:  #f1f1f1;\n",
       "        }    #T_102fb63e_7011_11ea_b6a6_d0abd5af0a72row13_col14 {\n",
       "            background-color:  #f7f0f7;\n",
       "            color:  #000000;\n",
       "        }    #T_102fb63e_7011_11ea_b6a6_d0abd5af0a72row13_col15 {\n",
       "            background-color:  #e3e0ee;\n",
       "            color:  #000000;\n",
       "        }    #T_102fb63e_7011_11ea_b6a6_d0abd5af0a72row14_col0 {\n",
       "            background-color:  #cdd0e5;\n",
       "            color:  #000000;\n",
       "        }    #T_102fb63e_7011_11ea_b6a6_d0abd5af0a72row14_col1 {\n",
       "            background-color:  #e0dded;\n",
       "            color:  #000000;\n",
       "        }    #T_102fb63e_7011_11ea_b6a6_d0abd5af0a72row14_col2 {\n",
       "            background-color:  #e2dfee;\n",
       "            color:  #000000;\n",
       "        }    #T_102fb63e_7011_11ea_b6a6_d0abd5af0a72row14_col3 {\n",
       "            background-color:  #eee8f3;\n",
       "            color:  #000000;\n",
       "        }    #T_102fb63e_7011_11ea_b6a6_d0abd5af0a72row14_col4 {\n",
       "            background-color:  #d2d3e7;\n",
       "            color:  #000000;\n",
       "        }    #T_102fb63e_7011_11ea_b6a6_d0abd5af0a72row14_col5 {\n",
       "            background-color:  #d9d8ea;\n",
       "            color:  #000000;\n",
       "        }    #T_102fb63e_7011_11ea_b6a6_d0abd5af0a72row14_col6 {\n",
       "            background-color:  #e7e3f0;\n",
       "            color:  #000000;\n",
       "        }    #T_102fb63e_7011_11ea_b6a6_d0abd5af0a72row14_col7 {\n",
       "            background-color:  #dddbec;\n",
       "            color:  #000000;\n",
       "        }    #T_102fb63e_7011_11ea_b6a6_d0abd5af0a72row14_col8 {\n",
       "            background-color:  #e5e1ef;\n",
       "            color:  #000000;\n",
       "        }    #T_102fb63e_7011_11ea_b6a6_d0abd5af0a72row14_col9 {\n",
       "            background-color:  #f4eef6;\n",
       "            color:  #000000;\n",
       "        }    #T_102fb63e_7011_11ea_b6a6_d0abd5af0a72row14_col10 {\n",
       "            background-color:  #fdf5fa;\n",
       "            color:  #000000;\n",
       "        }    #T_102fb63e_7011_11ea_b6a6_d0abd5af0a72row14_col11 {\n",
       "            background-color:  #fff7fb;\n",
       "            color:  #000000;\n",
       "        }    #T_102fb63e_7011_11ea_b6a6_d0abd5af0a72row14_col12 {\n",
       "            background-color:  #faf2f8;\n",
       "            color:  #000000;\n",
       "        }    #T_102fb63e_7011_11ea_b6a6_d0abd5af0a72row14_col13 {\n",
       "            background-color:  #f9f2f8;\n",
       "            color:  #000000;\n",
       "        }    #T_102fb63e_7011_11ea_b6a6_d0abd5af0a72row14_col14 {\n",
       "            background-color:  #023858;\n",
       "            color:  #f1f1f1;\n",
       "        }    #T_102fb63e_7011_11ea_b6a6_d0abd5af0a72row14_col15 {\n",
       "            background-color:  #dcdaeb;\n",
       "            color:  #000000;\n",
       "        }    #T_102fb63e_7011_11ea_b6a6_d0abd5af0a72row15_col0 {\n",
       "            background-color:  #b0c2de;\n",
       "            color:  #000000;\n",
       "        }    #T_102fb63e_7011_11ea_b6a6_d0abd5af0a72row15_col1 {\n",
       "            background-color:  #d1d2e6;\n",
       "            color:  #000000;\n",
       "        }    #T_102fb63e_7011_11ea_b6a6_d0abd5af0a72row15_col2 {\n",
       "            background-color:  #d7d6e9;\n",
       "            color:  #000000;\n",
       "        }    #T_102fb63e_7011_11ea_b6a6_d0abd5af0a72row15_col3 {\n",
       "            background-color:  #e5e1ef;\n",
       "            color:  #000000;\n",
       "        }    #T_102fb63e_7011_11ea_b6a6_d0abd5af0a72row15_col4 {\n",
       "            background-color:  #afc1dd;\n",
       "            color:  #000000;\n",
       "        }    #T_102fb63e_7011_11ea_b6a6_d0abd5af0a72row15_col5 {\n",
       "            background-color:  #b8c6e0;\n",
       "            color:  #000000;\n",
       "        }    #T_102fb63e_7011_11ea_b6a6_d0abd5af0a72row15_col6 {\n",
       "            background-color:  #f6eff7;\n",
       "            color:  #000000;\n",
       "        }    #T_102fb63e_7011_11ea_b6a6_d0abd5af0a72row15_col7 {\n",
       "            background-color:  #f2ecf5;\n",
       "            color:  #000000;\n",
       "        }    #T_102fb63e_7011_11ea_b6a6_d0abd5af0a72row15_col8 {\n",
       "            background-color:  #529bc7;\n",
       "            color:  #000000;\n",
       "        }    #T_102fb63e_7011_11ea_b6a6_d0abd5af0a72row15_col9 {\n",
       "            background-color:  #fef6fa;\n",
       "            color:  #000000;\n",
       "        }    #T_102fb63e_7011_11ea_b6a6_d0abd5af0a72row15_col10 {\n",
       "            background-color:  #fff7fb;\n",
       "            color:  #000000;\n",
       "        }    #T_102fb63e_7011_11ea_b6a6_d0abd5af0a72row15_col11 {\n",
       "            background-color:  #f6eff7;\n",
       "            color:  #000000;\n",
       "        }    #T_102fb63e_7011_11ea_b6a6_d0abd5af0a72row15_col12 {\n",
       "            background-color:  #fbf4f9;\n",
       "            color:  #000000;\n",
       "        }    #T_102fb63e_7011_11ea_b6a6_d0abd5af0a72row15_col13 {\n",
       "            background-color:  #faf2f8;\n",
       "            color:  #000000;\n",
       "        }    #T_102fb63e_7011_11ea_b6a6_d0abd5af0a72row15_col14 {\n",
       "            background-color:  #f2ecf5;\n",
       "            color:  #000000;\n",
       "        }    #T_102fb63e_7011_11ea_b6a6_d0abd5af0a72row15_col15 {\n",
       "            background-color:  #023858;\n",
       "            color:  #f1f1f1;\n",
       "        }</style><table id=\"T_102fb63e_7011_11ea_b6a6_d0abd5af0a72\" ><thead>    <tr>        <th class=\"blank level0\" ></th>        <th class=\"col_heading level0 col0\" >Administrative</th>        <th class=\"col_heading level0 col1\" >Administrative_Duration</th>        <th class=\"col_heading level0 col2\" >Informational</th>        <th class=\"col_heading level0 col3\" >Informational_Duration</th>        <th class=\"col_heading level0 col4\" >ProductRelated</th>        <th class=\"col_heading level0 col5\" >ProductRelated_Duration</th>        <th class=\"col_heading level0 col6\" >BounceRates</th>        <th class=\"col_heading level0 col7\" >ExitRates</th>        <th class=\"col_heading level0 col8\" >PageValues</th>        <th class=\"col_heading level0 col9\" >SpecialDay</th>        <th class=\"col_heading level0 col10\" >OperatingSystems</th>        <th class=\"col_heading level0 col11\" >Browser</th>        <th class=\"col_heading level0 col12\" >Region</th>        <th class=\"col_heading level0 col13\" >TrafficType</th>        <th class=\"col_heading level0 col14\" >Weekend</th>        <th class=\"col_heading level0 col15\" >Revenue</th>    </tr></thead><tbody>\n",
       "                <tr>\n",
       "                        <th id=\"T_102fb63e_7011_11ea_b6a6_d0abd5af0a72level0_row0\" class=\"row_heading level0 row0\" >Administrative</th>\n",
       "                        <td id=\"T_102fb63e_7011_11ea_b6a6_d0abd5af0a72row0_col0\" class=\"data row0 col0\" >1</td>\n",
       "                        <td id=\"T_102fb63e_7011_11ea_b6a6_d0abd5af0a72row0_col1\" class=\"data row0 col1\" >0.601583</td>\n",
       "                        <td id=\"T_102fb63e_7011_11ea_b6a6_d0abd5af0a72row0_col2\" class=\"data row0 col2\" >0.37685</td>\n",
       "                        <td id=\"T_102fb63e_7011_11ea_b6a6_d0abd5af0a72row0_col3\" class=\"data row0 col3\" >0.255848</td>\n",
       "                        <td id=\"T_102fb63e_7011_11ea_b6a6_d0abd5af0a72row0_col4\" class=\"data row0 col4\" >0.431119</td>\n",
       "                        <td id=\"T_102fb63e_7011_11ea_b6a6_d0abd5af0a72row0_col5\" class=\"data row0 col5\" >0.373939</td>\n",
       "                        <td id=\"T_102fb63e_7011_11ea_b6a6_d0abd5af0a72row0_col6\" class=\"data row0 col6\" >-0.223563</td>\n",
       "                        <td id=\"T_102fb63e_7011_11ea_b6a6_d0abd5af0a72row0_col7\" class=\"data row0 col7\" >-0.316483</td>\n",
       "                        <td id=\"T_102fb63e_7011_11ea_b6a6_d0abd5af0a72row0_col8\" class=\"data row0 col8\" >0.0989896</td>\n",
       "                        <td id=\"T_102fb63e_7011_11ea_b6a6_d0abd5af0a72row0_col9\" class=\"data row0 col9\" >-0.0947776</td>\n",
       "                        <td id=\"T_102fb63e_7011_11ea_b6a6_d0abd5af0a72row0_col10\" class=\"data row0 col10\" >-0.00634706</td>\n",
       "                        <td id=\"T_102fb63e_7011_11ea_b6a6_d0abd5af0a72row0_col11\" class=\"data row0 col11\" >-0.0250346</td>\n",
       "                        <td id=\"T_102fb63e_7011_11ea_b6a6_d0abd5af0a72row0_col12\" class=\"data row0 col12\" >-0.00548681</td>\n",
       "                        <td id=\"T_102fb63e_7011_11ea_b6a6_d0abd5af0a72row0_col13\" class=\"data row0 col13\" >-0.0335607</td>\n",
       "                        <td id=\"T_102fb63e_7011_11ea_b6a6_d0abd5af0a72row0_col14\" class=\"data row0 col14\" >0.0264168</td>\n",
       "                        <td id=\"T_102fb63e_7011_11ea_b6a6_d0abd5af0a72row0_col15\" class=\"data row0 col15\" >0.138917</td>\n",
       "            </tr>\n",
       "            <tr>\n",
       "                        <th id=\"T_102fb63e_7011_11ea_b6a6_d0abd5af0a72level0_row1\" class=\"row_heading level0 row1\" >Administrative_Duration</th>\n",
       "                        <td id=\"T_102fb63e_7011_11ea_b6a6_d0abd5af0a72row1_col0\" class=\"data row1 col0\" >0.601583</td>\n",
       "                        <td id=\"T_102fb63e_7011_11ea_b6a6_d0abd5af0a72row1_col1\" class=\"data row1 col1\" >1</td>\n",
       "                        <td id=\"T_102fb63e_7011_11ea_b6a6_d0abd5af0a72row1_col2\" class=\"data row1 col2\" >0.30271</td>\n",
       "                        <td id=\"T_102fb63e_7011_11ea_b6a6_d0abd5af0a72row1_col3\" class=\"data row1 col3\" >0.238031</td>\n",
       "                        <td id=\"T_102fb63e_7011_11ea_b6a6_d0abd5af0a72row1_col4\" class=\"data row1 col4\" >0.289087</td>\n",
       "                        <td id=\"T_102fb63e_7011_11ea_b6a6_d0abd5af0a72row1_col5\" class=\"data row1 col5\" >0.355422</td>\n",
       "                        <td id=\"T_102fb63e_7011_11ea_b6a6_d0abd5af0a72row1_col6\" class=\"data row1 col6\" >-0.14417</td>\n",
       "                        <td id=\"T_102fb63e_7011_11ea_b6a6_d0abd5af0a72row1_col7\" class=\"data row1 col7\" >-0.205798</td>\n",
       "                        <td id=\"T_102fb63e_7011_11ea_b6a6_d0abd5af0a72row1_col8\" class=\"data row1 col8\" >0.0676085</td>\n",
       "                        <td id=\"T_102fb63e_7011_11ea_b6a6_d0abd5af0a72row1_col9\" class=\"data row1 col9\" >-0.0733037</td>\n",
       "                        <td id=\"T_102fb63e_7011_11ea_b6a6_d0abd5af0a72row1_col10\" class=\"data row1 col10\" >-0.00734342</td>\n",
       "                        <td id=\"T_102fb63e_7011_11ea_b6a6_d0abd5af0a72row1_col11\" class=\"data row1 col11\" >-0.0153915</td>\n",
       "                        <td id=\"T_102fb63e_7011_11ea_b6a6_d0abd5af0a72row1_col12\" class=\"data row1 col12\" >-0.00556056</td>\n",
       "                        <td id=\"T_102fb63e_7011_11ea_b6a6_d0abd5af0a72row1_col13\" class=\"data row1 col13\" >-0.0143764</td>\n",
       "                        <td id=\"T_102fb63e_7011_11ea_b6a6_d0abd5af0a72row1_col14\" class=\"data row1 col14\" >0.0149901</td>\n",
       "                        <td id=\"T_102fb63e_7011_11ea_b6a6_d0abd5af0a72row1_col15\" class=\"data row1 col15\" >0.0935867</td>\n",
       "            </tr>\n",
       "            <tr>\n",
       "                        <th id=\"T_102fb63e_7011_11ea_b6a6_d0abd5af0a72level0_row2\" class=\"row_heading level0 row2\" >Informational</th>\n",
       "                        <td id=\"T_102fb63e_7011_11ea_b6a6_d0abd5af0a72row2_col0\" class=\"data row2 col0\" >0.37685</td>\n",
       "                        <td id=\"T_102fb63e_7011_11ea_b6a6_d0abd5af0a72row2_col1\" class=\"data row2 col1\" >0.30271</td>\n",
       "                        <td id=\"T_102fb63e_7011_11ea_b6a6_d0abd5af0a72row2_col2\" class=\"data row2 col2\" >1</td>\n",
       "                        <td id=\"T_102fb63e_7011_11ea_b6a6_d0abd5af0a72row2_col3\" class=\"data row2 col3\" >0.618955</td>\n",
       "                        <td id=\"T_102fb63e_7011_11ea_b6a6_d0abd5af0a72row2_col4\" class=\"data row2 col4\" >0.374164</td>\n",
       "                        <td id=\"T_102fb63e_7011_11ea_b6a6_d0abd5af0a72row2_col5\" class=\"data row2 col5\" >0.387505</td>\n",
       "                        <td id=\"T_102fb63e_7011_11ea_b6a6_d0abd5af0a72row2_col6\" class=\"data row2 col6\" >-0.116114</td>\n",
       "                        <td id=\"T_102fb63e_7011_11ea_b6a6_d0abd5af0a72row2_col7\" class=\"data row2 col7\" >-0.163666</td>\n",
       "                        <td id=\"T_102fb63e_7011_11ea_b6a6_d0abd5af0a72row2_col8\" class=\"data row2 col8\" >0.0486317</td>\n",
       "                        <td id=\"T_102fb63e_7011_11ea_b6a6_d0abd5af0a72row2_col9\" class=\"data row2 col9\" >-0.0482193</td>\n",
       "                        <td id=\"T_102fb63e_7011_11ea_b6a6_d0abd5af0a72row2_col10\" class=\"data row2 col10\" >-0.00952667</td>\n",
       "                        <td id=\"T_102fb63e_7011_11ea_b6a6_d0abd5af0a72row2_col11\" class=\"data row2 col11\" >-0.0382347</td>\n",
       "                        <td id=\"T_102fb63e_7011_11ea_b6a6_d0abd5af0a72row2_col12\" class=\"data row2 col12\" >-0.0291686</td>\n",
       "                        <td id=\"T_102fb63e_7011_11ea_b6a6_d0abd5af0a72row2_col13\" class=\"data row2 col13\" >-0.0344908</td>\n",
       "                        <td id=\"T_102fb63e_7011_11ea_b6a6_d0abd5af0a72row2_col14\" class=\"data row2 col14\" >0.0357847</td>\n",
       "                        <td id=\"T_102fb63e_7011_11ea_b6a6_d0abd5af0a72row2_col15\" class=\"data row2 col15\" >0.0952003</td>\n",
       "            </tr>\n",
       "            <tr>\n",
       "                        <th id=\"T_102fb63e_7011_11ea_b6a6_d0abd5af0a72level0_row3\" class=\"row_heading level0 row3\" >Informational_Duration</th>\n",
       "                        <td id=\"T_102fb63e_7011_11ea_b6a6_d0abd5af0a72row3_col0\" class=\"data row3 col0\" >0.255848</td>\n",
       "                        <td id=\"T_102fb63e_7011_11ea_b6a6_d0abd5af0a72row3_col1\" class=\"data row3 col1\" >0.238031</td>\n",
       "                        <td id=\"T_102fb63e_7011_11ea_b6a6_d0abd5af0a72row3_col2\" class=\"data row3 col2\" >0.618955</td>\n",
       "                        <td id=\"T_102fb63e_7011_11ea_b6a6_d0abd5af0a72row3_col3\" class=\"data row3 col3\" >1</td>\n",
       "                        <td id=\"T_102fb63e_7011_11ea_b6a6_d0abd5af0a72row3_col4\" class=\"data row3 col4\" >0.280046</td>\n",
       "                        <td id=\"T_102fb63e_7011_11ea_b6a6_d0abd5af0a72row3_col5\" class=\"data row3 col5\" >0.347364</td>\n",
       "                        <td id=\"T_102fb63e_7011_11ea_b6a6_d0abd5af0a72row3_col6\" class=\"data row3 col6\" >-0.0740666</td>\n",
       "                        <td id=\"T_102fb63e_7011_11ea_b6a6_d0abd5af0a72row3_col7\" class=\"data row3 col7\" >-0.105276</td>\n",
       "                        <td id=\"T_102fb63e_7011_11ea_b6a6_d0abd5af0a72row3_col8\" class=\"data row3 col8\" >0.0308609</td>\n",
       "                        <td id=\"T_102fb63e_7011_11ea_b6a6_d0abd5af0a72row3_col9\" class=\"data row3 col9\" >-0.0305765</td>\n",
       "                        <td id=\"T_102fb63e_7011_11ea_b6a6_d0abd5af0a72row3_col10\" class=\"data row3 col10\" >-0.00957868</td>\n",
       "                        <td id=\"T_102fb63e_7011_11ea_b6a6_d0abd5af0a72row3_col11\" class=\"data row3 col11\" >-0.019285</td>\n",
       "                        <td id=\"T_102fb63e_7011_11ea_b6a6_d0abd5af0a72row3_col12\" class=\"data row3 col12\" >-0.0271441</td>\n",
       "                        <td id=\"T_102fb63e_7011_11ea_b6a6_d0abd5af0a72row3_col13\" class=\"data row3 col13\" >-0.0246749</td>\n",
       "                        <td id=\"T_102fb63e_7011_11ea_b6a6_d0abd5af0a72row3_col14\" class=\"data row3 col14\" >0.0240785</td>\n",
       "                        <td id=\"T_102fb63e_7011_11ea_b6a6_d0abd5af0a72row3_col15\" class=\"data row3 col15\" >0.0703445</td>\n",
       "            </tr>\n",
       "            <tr>\n",
       "                        <th id=\"T_102fb63e_7011_11ea_b6a6_d0abd5af0a72level0_row4\" class=\"row_heading level0 row4\" >ProductRelated</th>\n",
       "                        <td id=\"T_102fb63e_7011_11ea_b6a6_d0abd5af0a72row4_col0\" class=\"data row4 col0\" >0.431119</td>\n",
       "                        <td id=\"T_102fb63e_7011_11ea_b6a6_d0abd5af0a72row4_col1\" class=\"data row4 col1\" >0.289087</td>\n",
       "                        <td id=\"T_102fb63e_7011_11ea_b6a6_d0abd5af0a72row4_col2\" class=\"data row4 col2\" >0.374164</td>\n",
       "                        <td id=\"T_102fb63e_7011_11ea_b6a6_d0abd5af0a72row4_col3\" class=\"data row4 col3\" >0.280046</td>\n",
       "                        <td id=\"T_102fb63e_7011_11ea_b6a6_d0abd5af0a72row4_col4\" class=\"data row4 col4\" >1</td>\n",
       "                        <td id=\"T_102fb63e_7011_11ea_b6a6_d0abd5af0a72row4_col5\" class=\"data row4 col5\" >0.860927</td>\n",
       "                        <td id=\"T_102fb63e_7011_11ea_b6a6_d0abd5af0a72row4_col6\" class=\"data row4 col6\" >-0.204578</td>\n",
       "                        <td id=\"T_102fb63e_7011_11ea_b6a6_d0abd5af0a72row4_col7\" class=\"data row4 col7\" >-0.292526</td>\n",
       "                        <td id=\"T_102fb63e_7011_11ea_b6a6_d0abd5af0a72row4_col8\" class=\"data row4 col8\" >0.0562818</td>\n",
       "                        <td id=\"T_102fb63e_7011_11ea_b6a6_d0abd5af0a72row4_col9\" class=\"data row4 col9\" >-0.0239582</td>\n",
       "                        <td id=\"T_102fb63e_7011_11ea_b6a6_d0abd5af0a72row4_col10\" class=\"data row4 col10\" >0.00428962</td>\n",
       "                        <td id=\"T_102fb63e_7011_11ea_b6a6_d0abd5af0a72row4_col11\" class=\"data row4 col11\" >-0.0131457</td>\n",
       "                        <td id=\"T_102fb63e_7011_11ea_b6a6_d0abd5af0a72row4_col12\" class=\"data row4 col12\" >-0.0381218</td>\n",
       "                        <td id=\"T_102fb63e_7011_11ea_b6a6_d0abd5af0a72row4_col13\" class=\"data row4 col13\" >-0.0430643</td>\n",
       "                        <td id=\"T_102fb63e_7011_11ea_b6a6_d0abd5af0a72row4_col14\" class=\"data row4 col14\" >0.016092</td>\n",
       "                        <td id=\"T_102fb63e_7011_11ea_b6a6_d0abd5af0a72row4_col15\" class=\"data row4 col15\" >0.158538</td>\n",
       "            </tr>\n",
       "            <tr>\n",
       "                        <th id=\"T_102fb63e_7011_11ea_b6a6_d0abd5af0a72level0_row5\" class=\"row_heading level0 row5\" >ProductRelated_Duration</th>\n",
       "                        <td id=\"T_102fb63e_7011_11ea_b6a6_d0abd5af0a72row5_col0\" class=\"data row5 col0\" >0.373939</td>\n",
       "                        <td id=\"T_102fb63e_7011_11ea_b6a6_d0abd5af0a72row5_col1\" class=\"data row5 col1\" >0.355422</td>\n",
       "                        <td id=\"T_102fb63e_7011_11ea_b6a6_d0abd5af0a72row5_col2\" class=\"data row5 col2\" >0.387505</td>\n",
       "                        <td id=\"T_102fb63e_7011_11ea_b6a6_d0abd5af0a72row5_col3\" class=\"data row5 col3\" >0.347364</td>\n",
       "                        <td id=\"T_102fb63e_7011_11ea_b6a6_d0abd5af0a72row5_col4\" class=\"data row5 col4\" >0.860927</td>\n",
       "                        <td id=\"T_102fb63e_7011_11ea_b6a6_d0abd5af0a72row5_col5\" class=\"data row5 col5\" >1</td>\n",
       "                        <td id=\"T_102fb63e_7011_11ea_b6a6_d0abd5af0a72row5_col6\" class=\"data row5 col6\" >-0.184541</td>\n",
       "                        <td id=\"T_102fb63e_7011_11ea_b6a6_d0abd5af0a72row5_col7\" class=\"data row5 col7\" >-0.251984</td>\n",
       "                        <td id=\"T_102fb63e_7011_11ea_b6a6_d0abd5af0a72row5_col8\" class=\"data row5 col8\" >0.0528231</td>\n",
       "                        <td id=\"T_102fb63e_7011_11ea_b6a6_d0abd5af0a72row5_col9\" class=\"data row5 col9\" >-0.0363798</td>\n",
       "                        <td id=\"T_102fb63e_7011_11ea_b6a6_d0abd5af0a72row5_col10\" class=\"data row5 col10\" >0.00297579</td>\n",
       "                        <td id=\"T_102fb63e_7011_11ea_b6a6_d0abd5af0a72row5_col11\" class=\"data row5 col11\" >-0.00738044</td>\n",
       "                        <td id=\"T_102fb63e_7011_11ea_b6a6_d0abd5af0a72row5_col12\" class=\"data row5 col12\" >-0.0330905</td>\n",
       "                        <td id=\"T_102fb63e_7011_11ea_b6a6_d0abd5af0a72row5_col13\" class=\"data row5 col13\" >-0.0363772</td>\n",
       "                        <td id=\"T_102fb63e_7011_11ea_b6a6_d0abd5af0a72row5_col14\" class=\"data row5 col14\" >0.00731061</td>\n",
       "                        <td id=\"T_102fb63e_7011_11ea_b6a6_d0abd5af0a72row5_col15\" class=\"data row5 col15\" >0.152373</td>\n",
       "            </tr>\n",
       "            <tr>\n",
       "                        <th id=\"T_102fb63e_7011_11ea_b6a6_d0abd5af0a72level0_row6\" class=\"row_heading level0 row6\" >BounceRates</th>\n",
       "                        <td id=\"T_102fb63e_7011_11ea_b6a6_d0abd5af0a72row6_col0\" class=\"data row6 col0\" >-0.223563</td>\n",
       "                        <td id=\"T_102fb63e_7011_11ea_b6a6_d0abd5af0a72row6_col1\" class=\"data row6 col1\" >-0.14417</td>\n",
       "                        <td id=\"T_102fb63e_7011_11ea_b6a6_d0abd5af0a72row6_col2\" class=\"data row6 col2\" >-0.116114</td>\n",
       "                        <td id=\"T_102fb63e_7011_11ea_b6a6_d0abd5af0a72row6_col3\" class=\"data row6 col3\" >-0.0740666</td>\n",
       "                        <td id=\"T_102fb63e_7011_11ea_b6a6_d0abd5af0a72row6_col4\" class=\"data row6 col4\" >-0.204578</td>\n",
       "                        <td id=\"T_102fb63e_7011_11ea_b6a6_d0abd5af0a72row6_col5\" class=\"data row6 col5\" >-0.184541</td>\n",
       "                        <td id=\"T_102fb63e_7011_11ea_b6a6_d0abd5af0a72row6_col6\" class=\"data row6 col6\" >1</td>\n",
       "                        <td id=\"T_102fb63e_7011_11ea_b6a6_d0abd5af0a72row6_col7\" class=\"data row6 col7\" >0.913004</td>\n",
       "                        <td id=\"T_102fb63e_7011_11ea_b6a6_d0abd5af0a72row6_col8\" class=\"data row6 col8\" >-0.119386</td>\n",
       "                        <td id=\"T_102fb63e_7011_11ea_b6a6_d0abd5af0a72row6_col9\" class=\"data row6 col9\" >0.0727023</td>\n",
       "                        <td id=\"T_102fb63e_7011_11ea_b6a6_d0abd5af0a72row6_col10\" class=\"data row6 col10\" >0.0238232</td>\n",
       "                        <td id=\"T_102fb63e_7011_11ea_b6a6_d0abd5af0a72row6_col11\" class=\"data row6 col11\" >-0.0157722</td>\n",
       "                        <td id=\"T_102fb63e_7011_11ea_b6a6_d0abd5af0a72row6_col12\" class=\"data row6 col12\" >-0.00648535</td>\n",
       "                        <td id=\"T_102fb63e_7011_11ea_b6a6_d0abd5af0a72row6_col13\" class=\"data row6 col13\" >0.0782855</td>\n",
       "                        <td id=\"T_102fb63e_7011_11ea_b6a6_d0abd5af0a72row6_col14\" class=\"data row6 col14\" >-0.046514</td>\n",
       "                        <td id=\"T_102fb63e_7011_11ea_b6a6_d0abd5af0a72row6_col15\" class=\"data row6 col15\" >-0.150673</td>\n",
       "            </tr>\n",
       "            <tr>\n",
       "                        <th id=\"T_102fb63e_7011_11ea_b6a6_d0abd5af0a72level0_row7\" class=\"row_heading level0 row7\" >ExitRates</th>\n",
       "                        <td id=\"T_102fb63e_7011_11ea_b6a6_d0abd5af0a72row7_col0\" class=\"data row7 col0\" >-0.316483</td>\n",
       "                        <td id=\"T_102fb63e_7011_11ea_b6a6_d0abd5af0a72row7_col1\" class=\"data row7 col1\" >-0.205798</td>\n",
       "                        <td id=\"T_102fb63e_7011_11ea_b6a6_d0abd5af0a72row7_col2\" class=\"data row7 col2\" >-0.163666</td>\n",
       "                        <td id=\"T_102fb63e_7011_11ea_b6a6_d0abd5af0a72row7_col3\" class=\"data row7 col3\" >-0.105276</td>\n",
       "                        <td id=\"T_102fb63e_7011_11ea_b6a6_d0abd5af0a72row7_col4\" class=\"data row7 col4\" >-0.292526</td>\n",
       "                        <td id=\"T_102fb63e_7011_11ea_b6a6_d0abd5af0a72row7_col5\" class=\"data row7 col5\" >-0.251984</td>\n",
       "                        <td id=\"T_102fb63e_7011_11ea_b6a6_d0abd5af0a72row7_col6\" class=\"data row7 col6\" >0.913004</td>\n",
       "                        <td id=\"T_102fb63e_7011_11ea_b6a6_d0abd5af0a72row7_col7\" class=\"data row7 col7\" >1</td>\n",
       "                        <td id=\"T_102fb63e_7011_11ea_b6a6_d0abd5af0a72row7_col8\" class=\"data row7 col8\" >-0.174498</td>\n",
       "                        <td id=\"T_102fb63e_7011_11ea_b6a6_d0abd5af0a72row7_col9\" class=\"data row7 col9\" >0.102242</td>\n",
       "                        <td id=\"T_102fb63e_7011_11ea_b6a6_d0abd5af0a72row7_col10\" class=\"data row7 col10\" >0.0145667</td>\n",
       "                        <td id=\"T_102fb63e_7011_11ea_b6a6_d0abd5af0a72row7_col11\" class=\"data row7 col11\" >-0.00444236</td>\n",
       "                        <td id=\"T_102fb63e_7011_11ea_b6a6_d0abd5af0a72row7_col12\" class=\"data row7 col12\" >-0.00890701</td>\n",
       "                        <td id=\"T_102fb63e_7011_11ea_b6a6_d0abd5af0a72row7_col13\" class=\"data row7 col13\" >0.0786163</td>\n",
       "                        <td id=\"T_102fb63e_7011_11ea_b6a6_d0abd5af0a72row7_col14\" class=\"data row7 col14\" >-0.062587</td>\n",
       "                        <td id=\"T_102fb63e_7011_11ea_b6a6_d0abd5af0a72row7_col15\" class=\"data row7 col15\" >-0.207071</td>\n",
       "            </tr>\n",
       "            <tr>\n",
       "                        <th id=\"T_102fb63e_7011_11ea_b6a6_d0abd5af0a72level0_row8\" class=\"row_heading level0 row8\" >PageValues</th>\n",
       "                        <td id=\"T_102fb63e_7011_11ea_b6a6_d0abd5af0a72row8_col0\" class=\"data row8 col0\" >0.0989896</td>\n",
       "                        <td id=\"T_102fb63e_7011_11ea_b6a6_d0abd5af0a72row8_col1\" class=\"data row8 col1\" >0.0676085</td>\n",
       "                        <td id=\"T_102fb63e_7011_11ea_b6a6_d0abd5af0a72row8_col2\" class=\"data row8 col2\" >0.0486317</td>\n",
       "                        <td id=\"T_102fb63e_7011_11ea_b6a6_d0abd5af0a72row8_col3\" class=\"data row8 col3\" >0.0308609</td>\n",
       "                        <td id=\"T_102fb63e_7011_11ea_b6a6_d0abd5af0a72row8_col4\" class=\"data row8 col4\" >0.0562818</td>\n",
       "                        <td id=\"T_102fb63e_7011_11ea_b6a6_d0abd5af0a72row8_col5\" class=\"data row8 col5\" >0.0528231</td>\n",
       "                        <td id=\"T_102fb63e_7011_11ea_b6a6_d0abd5af0a72row8_col6\" class=\"data row8 col6\" >-0.119386</td>\n",
       "                        <td id=\"T_102fb63e_7011_11ea_b6a6_d0abd5af0a72row8_col7\" class=\"data row8 col7\" >-0.174498</td>\n",
       "                        <td id=\"T_102fb63e_7011_11ea_b6a6_d0abd5af0a72row8_col8\" class=\"data row8 col8\" >1</td>\n",
       "                        <td id=\"T_102fb63e_7011_11ea_b6a6_d0abd5af0a72row8_col9\" class=\"data row8 col9\" >-0.0635413</td>\n",
       "                        <td id=\"T_102fb63e_7011_11ea_b6a6_d0abd5af0a72row8_col10\" class=\"data row8 col10\" >0.0185079</td>\n",
       "                        <td id=\"T_102fb63e_7011_11ea_b6a6_d0abd5af0a72row8_col11\" class=\"data row8 col11\" >0.0455919</td>\n",
       "                        <td id=\"T_102fb63e_7011_11ea_b6a6_d0abd5af0a72row8_col12\" class=\"data row8 col12\" >0.0113153</td>\n",
       "                        <td id=\"T_102fb63e_7011_11ea_b6a6_d0abd5af0a72row8_col13\" class=\"data row8 col13\" >0.0125317</td>\n",
       "                        <td id=\"T_102fb63e_7011_11ea_b6a6_d0abd5af0a72row8_col14\" class=\"data row8 col14\" >0.0120016</td>\n",
       "                        <td id=\"T_102fb63e_7011_11ea_b6a6_d0abd5af0a72row8_col15\" class=\"data row8 col15\" >0.492569</td>\n",
       "            </tr>\n",
       "            <tr>\n",
       "                        <th id=\"T_102fb63e_7011_11ea_b6a6_d0abd5af0a72level0_row9\" class=\"row_heading level0 row9\" >SpecialDay</th>\n",
       "                        <td id=\"T_102fb63e_7011_11ea_b6a6_d0abd5af0a72row9_col0\" class=\"data row9 col0\" >-0.0947776</td>\n",
       "                        <td id=\"T_102fb63e_7011_11ea_b6a6_d0abd5af0a72row9_col1\" class=\"data row9 col1\" >-0.0733037</td>\n",
       "                        <td id=\"T_102fb63e_7011_11ea_b6a6_d0abd5af0a72row9_col2\" class=\"data row9 col2\" >-0.0482193</td>\n",
       "                        <td id=\"T_102fb63e_7011_11ea_b6a6_d0abd5af0a72row9_col3\" class=\"data row9 col3\" >-0.0305765</td>\n",
       "                        <td id=\"T_102fb63e_7011_11ea_b6a6_d0abd5af0a72row9_col4\" class=\"data row9 col4\" >-0.0239582</td>\n",
       "                        <td id=\"T_102fb63e_7011_11ea_b6a6_d0abd5af0a72row9_col5\" class=\"data row9 col5\" >-0.0363798</td>\n",
       "                        <td id=\"T_102fb63e_7011_11ea_b6a6_d0abd5af0a72row9_col6\" class=\"data row9 col6\" >0.0727023</td>\n",
       "                        <td id=\"T_102fb63e_7011_11ea_b6a6_d0abd5af0a72row9_col7\" class=\"data row9 col7\" >0.102242</td>\n",
       "                        <td id=\"T_102fb63e_7011_11ea_b6a6_d0abd5af0a72row9_col8\" class=\"data row9 col8\" >-0.0635413</td>\n",
       "                        <td id=\"T_102fb63e_7011_11ea_b6a6_d0abd5af0a72row9_col9\" class=\"data row9 col9\" >1</td>\n",
       "                        <td id=\"T_102fb63e_7011_11ea_b6a6_d0abd5af0a72row9_col10\" class=\"data row9 col10\" >0.0126522</td>\n",
       "                        <td id=\"T_102fb63e_7011_11ea_b6a6_d0abd5af0a72row9_col11\" class=\"data row9 col11\" >0.00349875</td>\n",
       "                        <td id=\"T_102fb63e_7011_11ea_b6a6_d0abd5af0a72row9_col12\" class=\"data row9 col12\" >-0.016098</td>\n",
       "                        <td id=\"T_102fb63e_7011_11ea_b6a6_d0abd5af0a72row9_col13\" class=\"data row9 col13\" >0.0523014</td>\n",
       "                        <td id=\"T_102fb63e_7011_11ea_b6a6_d0abd5af0a72row9_col14\" class=\"data row9 col14\" >-0.0167672</td>\n",
       "                        <td id=\"T_102fb63e_7011_11ea_b6a6_d0abd5af0a72row9_col15\" class=\"data row9 col15\" >-0.0823046</td>\n",
       "            </tr>\n",
       "            <tr>\n",
       "                        <th id=\"T_102fb63e_7011_11ea_b6a6_d0abd5af0a72level0_row10\" class=\"row_heading level0 row10\" >OperatingSystems</th>\n",
       "                        <td id=\"T_102fb63e_7011_11ea_b6a6_d0abd5af0a72row10_col0\" class=\"data row10 col0\" >-0.00634706</td>\n",
       "                        <td id=\"T_102fb63e_7011_11ea_b6a6_d0abd5af0a72row10_col1\" class=\"data row10 col1\" >-0.00734342</td>\n",
       "                        <td id=\"T_102fb63e_7011_11ea_b6a6_d0abd5af0a72row10_col2\" class=\"data row10 col2\" >-0.00952667</td>\n",
       "                        <td id=\"T_102fb63e_7011_11ea_b6a6_d0abd5af0a72row10_col3\" class=\"data row10 col3\" >-0.00957868</td>\n",
       "                        <td id=\"T_102fb63e_7011_11ea_b6a6_d0abd5af0a72row10_col4\" class=\"data row10 col4\" >0.00428962</td>\n",
       "                        <td id=\"T_102fb63e_7011_11ea_b6a6_d0abd5af0a72row10_col5\" class=\"data row10 col5\" >0.00297579</td>\n",
       "                        <td id=\"T_102fb63e_7011_11ea_b6a6_d0abd5af0a72row10_col6\" class=\"data row10 col6\" >0.0238232</td>\n",
       "                        <td id=\"T_102fb63e_7011_11ea_b6a6_d0abd5af0a72row10_col7\" class=\"data row10 col7\" >0.0145667</td>\n",
       "                        <td id=\"T_102fb63e_7011_11ea_b6a6_d0abd5af0a72row10_col8\" class=\"data row10 col8\" >0.0185079</td>\n",
       "                        <td id=\"T_102fb63e_7011_11ea_b6a6_d0abd5af0a72row10_col9\" class=\"data row10 col9\" >0.0126522</td>\n",
       "                        <td id=\"T_102fb63e_7011_11ea_b6a6_d0abd5af0a72row10_col10\" class=\"data row10 col10\" >1</td>\n",
       "                        <td id=\"T_102fb63e_7011_11ea_b6a6_d0abd5af0a72row10_col11\" class=\"data row10 col11\" >0.223013</td>\n",
       "                        <td id=\"T_102fb63e_7011_11ea_b6a6_d0abd5af0a72row10_col12\" class=\"data row10 col12\" >0.0767755</td>\n",
       "                        <td id=\"T_102fb63e_7011_11ea_b6a6_d0abd5af0a72row10_col13\" class=\"data row10 col13\" >0.189154</td>\n",
       "                        <td id=\"T_102fb63e_7011_11ea_b6a6_d0abd5af0a72row10_col14\" class=\"data row10 col14\" >0.000284251</td>\n",
       "                        <td id=\"T_102fb63e_7011_11ea_b6a6_d0abd5af0a72row10_col15\" class=\"data row10 col15\" >-0.0146676</td>\n",
       "            </tr>\n",
       "            <tr>\n",
       "                        <th id=\"T_102fb63e_7011_11ea_b6a6_d0abd5af0a72level0_row11\" class=\"row_heading level0 row11\" >Browser</th>\n",
       "                        <td id=\"T_102fb63e_7011_11ea_b6a6_d0abd5af0a72row11_col0\" class=\"data row11 col0\" >-0.0250346</td>\n",
       "                        <td id=\"T_102fb63e_7011_11ea_b6a6_d0abd5af0a72row11_col1\" class=\"data row11 col1\" >-0.0153915</td>\n",
       "                        <td id=\"T_102fb63e_7011_11ea_b6a6_d0abd5af0a72row11_col2\" class=\"data row11 col2\" >-0.0382347</td>\n",
       "                        <td id=\"T_102fb63e_7011_11ea_b6a6_d0abd5af0a72row11_col3\" class=\"data row11 col3\" >-0.019285</td>\n",
       "                        <td id=\"T_102fb63e_7011_11ea_b6a6_d0abd5af0a72row11_col4\" class=\"data row11 col4\" >-0.0131457</td>\n",
       "                        <td id=\"T_102fb63e_7011_11ea_b6a6_d0abd5af0a72row11_col5\" class=\"data row11 col5\" >-0.00738044</td>\n",
       "                        <td id=\"T_102fb63e_7011_11ea_b6a6_d0abd5af0a72row11_col6\" class=\"data row11 col6\" >-0.0157722</td>\n",
       "                        <td id=\"T_102fb63e_7011_11ea_b6a6_d0abd5af0a72row11_col7\" class=\"data row11 col7\" >-0.00444236</td>\n",
       "                        <td id=\"T_102fb63e_7011_11ea_b6a6_d0abd5af0a72row11_col8\" class=\"data row11 col8\" >0.0455919</td>\n",
       "                        <td id=\"T_102fb63e_7011_11ea_b6a6_d0abd5af0a72row11_col9\" class=\"data row11 col9\" >0.00349875</td>\n",
       "                        <td id=\"T_102fb63e_7011_11ea_b6a6_d0abd5af0a72row11_col10\" class=\"data row11 col10\" >0.223013</td>\n",
       "                        <td id=\"T_102fb63e_7011_11ea_b6a6_d0abd5af0a72row11_col11\" class=\"data row11 col11\" >1</td>\n",
       "                        <td id=\"T_102fb63e_7011_11ea_b6a6_d0abd5af0a72row11_col12\" class=\"data row11 col12\" >0.0973928</td>\n",
       "                        <td id=\"T_102fb63e_7011_11ea_b6a6_d0abd5af0a72row11_col13\" class=\"data row11 col13\" >0.111938</td>\n",
       "                        <td id=\"T_102fb63e_7011_11ea_b6a6_d0abd5af0a72row11_col14\" class=\"data row11 col14\" >-0.0402609</td>\n",
       "                        <td id=\"T_102fb63e_7011_11ea_b6a6_d0abd5af0a72row11_col15\" class=\"data row11 col15\" >0.0239843</td>\n",
       "            </tr>\n",
       "            <tr>\n",
       "                        <th id=\"T_102fb63e_7011_11ea_b6a6_d0abd5af0a72level0_row12\" class=\"row_heading level0 row12\" >Region</th>\n",
       "                        <td id=\"T_102fb63e_7011_11ea_b6a6_d0abd5af0a72row12_col0\" class=\"data row12 col0\" >-0.00548681</td>\n",
       "                        <td id=\"T_102fb63e_7011_11ea_b6a6_d0abd5af0a72row12_col1\" class=\"data row12 col1\" >-0.00556056</td>\n",
       "                        <td id=\"T_102fb63e_7011_11ea_b6a6_d0abd5af0a72row12_col2\" class=\"data row12 col2\" >-0.0291686</td>\n",
       "                        <td id=\"T_102fb63e_7011_11ea_b6a6_d0abd5af0a72row12_col3\" class=\"data row12 col3\" >-0.0271441</td>\n",
       "                        <td id=\"T_102fb63e_7011_11ea_b6a6_d0abd5af0a72row12_col4\" class=\"data row12 col4\" >-0.0381218</td>\n",
       "                        <td id=\"T_102fb63e_7011_11ea_b6a6_d0abd5af0a72row12_col5\" class=\"data row12 col5\" >-0.0330905</td>\n",
       "                        <td id=\"T_102fb63e_7011_11ea_b6a6_d0abd5af0a72row12_col6\" class=\"data row12 col6\" >-0.00648535</td>\n",
       "                        <td id=\"T_102fb63e_7011_11ea_b6a6_d0abd5af0a72row12_col7\" class=\"data row12 col7\" >-0.00890701</td>\n",
       "                        <td id=\"T_102fb63e_7011_11ea_b6a6_d0abd5af0a72row12_col8\" class=\"data row12 col8\" >0.0113153</td>\n",
       "                        <td id=\"T_102fb63e_7011_11ea_b6a6_d0abd5af0a72row12_col9\" class=\"data row12 col9\" >-0.016098</td>\n",
       "                        <td id=\"T_102fb63e_7011_11ea_b6a6_d0abd5af0a72row12_col10\" class=\"data row12 col10\" >0.0767755</td>\n",
       "                        <td id=\"T_102fb63e_7011_11ea_b6a6_d0abd5af0a72row12_col11\" class=\"data row12 col11\" >0.0973928</td>\n",
       "                        <td id=\"T_102fb63e_7011_11ea_b6a6_d0abd5af0a72row12_col12\" class=\"data row12 col12\" >1</td>\n",
       "                        <td id=\"T_102fb63e_7011_11ea_b6a6_d0abd5af0a72row12_col13\" class=\"data row12 col13\" >0.0475202</td>\n",
       "                        <td id=\"T_102fb63e_7011_11ea_b6a6_d0abd5af0a72row12_col14\" class=\"data row12 col14\" >-0.00069067</td>\n",
       "                        <td id=\"T_102fb63e_7011_11ea_b6a6_d0abd5af0a72row12_col15\" class=\"data row12 col15\" >-0.0115951</td>\n",
       "            </tr>\n",
       "            <tr>\n",
       "                        <th id=\"T_102fb63e_7011_11ea_b6a6_d0abd5af0a72level0_row13\" class=\"row_heading level0 row13\" >TrafficType</th>\n",
       "                        <td id=\"T_102fb63e_7011_11ea_b6a6_d0abd5af0a72row13_col0\" class=\"data row13 col0\" >-0.0335607</td>\n",
       "                        <td id=\"T_102fb63e_7011_11ea_b6a6_d0abd5af0a72row13_col1\" class=\"data row13 col1\" >-0.0143764</td>\n",
       "                        <td id=\"T_102fb63e_7011_11ea_b6a6_d0abd5af0a72row13_col2\" class=\"data row13 col2\" >-0.0344908</td>\n",
       "                        <td id=\"T_102fb63e_7011_11ea_b6a6_d0abd5af0a72row13_col3\" class=\"data row13 col3\" >-0.0246749</td>\n",
       "                        <td id=\"T_102fb63e_7011_11ea_b6a6_d0abd5af0a72row13_col4\" class=\"data row13 col4\" >-0.0430643</td>\n",
       "                        <td id=\"T_102fb63e_7011_11ea_b6a6_d0abd5af0a72row13_col5\" class=\"data row13 col5\" >-0.0363772</td>\n",
       "                        <td id=\"T_102fb63e_7011_11ea_b6a6_d0abd5af0a72row13_col6\" class=\"data row13 col6\" >0.0782855</td>\n",
       "                        <td id=\"T_102fb63e_7011_11ea_b6a6_d0abd5af0a72row13_col7\" class=\"data row13 col7\" >0.0786163</td>\n",
       "                        <td id=\"T_102fb63e_7011_11ea_b6a6_d0abd5af0a72row13_col8\" class=\"data row13 col8\" >0.0125317</td>\n",
       "                        <td id=\"T_102fb63e_7011_11ea_b6a6_d0abd5af0a72row13_col9\" class=\"data row13 col9\" >0.0523014</td>\n",
       "                        <td id=\"T_102fb63e_7011_11ea_b6a6_d0abd5af0a72row13_col10\" class=\"data row13 col10\" >0.189154</td>\n",
       "                        <td id=\"T_102fb63e_7011_11ea_b6a6_d0abd5af0a72row13_col11\" class=\"data row13 col11\" >0.111938</td>\n",
       "                        <td id=\"T_102fb63e_7011_11ea_b6a6_d0abd5af0a72row13_col12\" class=\"data row13 col12\" >0.0475202</td>\n",
       "                        <td id=\"T_102fb63e_7011_11ea_b6a6_d0abd5af0a72row13_col13\" class=\"data row13 col13\" >1</td>\n",
       "                        <td id=\"T_102fb63e_7011_11ea_b6a6_d0abd5af0a72row13_col14\" class=\"data row13 col14\" >-0.00222123</td>\n",
       "                        <td id=\"T_102fb63e_7011_11ea_b6a6_d0abd5af0a72row13_col15\" class=\"data row13 col15\" >-0.00511297</td>\n",
       "            </tr>\n",
       "            <tr>\n",
       "                        <th id=\"T_102fb63e_7011_11ea_b6a6_d0abd5af0a72level0_row14\" class=\"row_heading level0 row14\" >Weekend</th>\n",
       "                        <td id=\"T_102fb63e_7011_11ea_b6a6_d0abd5af0a72row14_col0\" class=\"data row14 col0\" >0.0264168</td>\n",
       "                        <td id=\"T_102fb63e_7011_11ea_b6a6_d0abd5af0a72row14_col1\" class=\"data row14 col1\" >0.0149901</td>\n",
       "                        <td id=\"T_102fb63e_7011_11ea_b6a6_d0abd5af0a72row14_col2\" class=\"data row14 col2\" >0.0357847</td>\n",
       "                        <td id=\"T_102fb63e_7011_11ea_b6a6_d0abd5af0a72row14_col3\" class=\"data row14 col3\" >0.0240785</td>\n",
       "                        <td id=\"T_102fb63e_7011_11ea_b6a6_d0abd5af0a72row14_col4\" class=\"data row14 col4\" >0.016092</td>\n",
       "                        <td id=\"T_102fb63e_7011_11ea_b6a6_d0abd5af0a72row14_col5\" class=\"data row14 col5\" >0.00731061</td>\n",
       "                        <td id=\"T_102fb63e_7011_11ea_b6a6_d0abd5af0a72row14_col6\" class=\"data row14 col6\" >-0.046514</td>\n",
       "                        <td id=\"T_102fb63e_7011_11ea_b6a6_d0abd5af0a72row14_col7\" class=\"data row14 col7\" >-0.062587</td>\n",
       "                        <td id=\"T_102fb63e_7011_11ea_b6a6_d0abd5af0a72row14_col8\" class=\"data row14 col8\" >0.0120016</td>\n",
       "                        <td id=\"T_102fb63e_7011_11ea_b6a6_d0abd5af0a72row14_col9\" class=\"data row14 col9\" >-0.0167672</td>\n",
       "                        <td id=\"T_102fb63e_7011_11ea_b6a6_d0abd5af0a72row14_col10\" class=\"data row14 col10\" >0.000284251</td>\n",
       "                        <td id=\"T_102fb63e_7011_11ea_b6a6_d0abd5af0a72row14_col11\" class=\"data row14 col11\" >-0.0402609</td>\n",
       "                        <td id=\"T_102fb63e_7011_11ea_b6a6_d0abd5af0a72row14_col12\" class=\"data row14 col12\" >-0.00069067</td>\n",
       "                        <td id=\"T_102fb63e_7011_11ea_b6a6_d0abd5af0a72row14_col13\" class=\"data row14 col13\" >-0.00222123</td>\n",
       "                        <td id=\"T_102fb63e_7011_11ea_b6a6_d0abd5af0a72row14_col14\" class=\"data row14 col14\" >1</td>\n",
       "                        <td id=\"T_102fb63e_7011_11ea_b6a6_d0abd5af0a72row14_col15\" class=\"data row14 col15\" >0.0292954</td>\n",
       "            </tr>\n",
       "            <tr>\n",
       "                        <th id=\"T_102fb63e_7011_11ea_b6a6_d0abd5af0a72level0_row15\" class=\"row_heading level0 row15\" >Revenue</th>\n",
       "                        <td id=\"T_102fb63e_7011_11ea_b6a6_d0abd5af0a72row15_col0\" class=\"data row15 col0\" >0.138917</td>\n",
       "                        <td id=\"T_102fb63e_7011_11ea_b6a6_d0abd5af0a72row15_col1\" class=\"data row15 col1\" >0.0935867</td>\n",
       "                        <td id=\"T_102fb63e_7011_11ea_b6a6_d0abd5af0a72row15_col2\" class=\"data row15 col2\" >0.0952003</td>\n",
       "                        <td id=\"T_102fb63e_7011_11ea_b6a6_d0abd5af0a72row15_col3\" class=\"data row15 col3\" >0.0703445</td>\n",
       "                        <td id=\"T_102fb63e_7011_11ea_b6a6_d0abd5af0a72row15_col4\" class=\"data row15 col4\" >0.158538</td>\n",
       "                        <td id=\"T_102fb63e_7011_11ea_b6a6_d0abd5af0a72row15_col5\" class=\"data row15 col5\" >0.152373</td>\n",
       "                        <td id=\"T_102fb63e_7011_11ea_b6a6_d0abd5af0a72row15_col6\" class=\"data row15 col6\" >-0.150673</td>\n",
       "                        <td id=\"T_102fb63e_7011_11ea_b6a6_d0abd5af0a72row15_col7\" class=\"data row15 col7\" >-0.207071</td>\n",
       "                        <td id=\"T_102fb63e_7011_11ea_b6a6_d0abd5af0a72row15_col8\" class=\"data row15 col8\" >0.492569</td>\n",
       "                        <td id=\"T_102fb63e_7011_11ea_b6a6_d0abd5af0a72row15_col9\" class=\"data row15 col9\" >-0.0823046</td>\n",
       "                        <td id=\"T_102fb63e_7011_11ea_b6a6_d0abd5af0a72row15_col10\" class=\"data row15 col10\" >-0.0146676</td>\n",
       "                        <td id=\"T_102fb63e_7011_11ea_b6a6_d0abd5af0a72row15_col11\" class=\"data row15 col11\" >0.0239843</td>\n",
       "                        <td id=\"T_102fb63e_7011_11ea_b6a6_d0abd5af0a72row15_col12\" class=\"data row15 col12\" >-0.0115951</td>\n",
       "                        <td id=\"T_102fb63e_7011_11ea_b6a6_d0abd5af0a72row15_col13\" class=\"data row15 col13\" >-0.00511297</td>\n",
       "                        <td id=\"T_102fb63e_7011_11ea_b6a6_d0abd5af0a72row15_col14\" class=\"data row15 col14\" >0.0292954</td>\n",
       "                        <td id=\"T_102fb63e_7011_11ea_b6a6_d0abd5af0a72row15_col15\" class=\"data row15 col15\" >1</td>\n",
       "            </tr>\n",
       "    </tbody></table>"
      ],
      "text/plain": [
       "<pandas.io.formats.style.Styler at 0x20daec10808>"
      ]
     },
     "execution_count": 68,
     "metadata": {},
     "output_type": "execute_result"
    }
   ],
   "source": [
    "corr = df.corr()\n",
    "corr.style.background_gradient(cmap='PuBu')"
   ]
  },
  {
   "cell_type": "markdown",
   "metadata": {},
   "source": [
    "Variabel yang memiliki korelasi terbesar adalah PageValues dengan 0.49"
   ]
  },
  {
   "cell_type": "markdown",
   "metadata": {},
   "source": [
    "## Persiapan Model Machine Learning"
   ]
  },
  {
   "cell_type": "code",
   "execution_count": 70,
   "metadata": {},
   "outputs": [],
   "source": [
    "from sklearn.preprocessing import LabelEncoder"
   ]
  },
  {
   "cell_type": "code",
   "execution_count": 71,
   "metadata": {},
   "outputs": [
    {
     "data": {
      "text/html": [
       "<div>\n",
       "<style scoped>\n",
       "    .dataframe tbody tr th:only-of-type {\n",
       "        vertical-align: middle;\n",
       "    }\n",
       "\n",
       "    .dataframe tbody tr th {\n",
       "        vertical-align: top;\n",
       "    }\n",
       "\n",
       "    .dataframe thead th {\n",
       "        text-align: right;\n",
       "    }\n",
       "</style>\n",
       "<table border=\"1\" class=\"dataframe\">\n",
       "  <thead>\n",
       "    <tr style=\"text-align: right;\">\n",
       "      <th></th>\n",
       "      <th>Administrative</th>\n",
       "      <th>Administrative_Duration</th>\n",
       "      <th>Informational</th>\n",
       "      <th>Informational_Duration</th>\n",
       "      <th>ProductRelated</th>\n",
       "      <th>ProductRelated_Duration</th>\n",
       "      <th>BounceRates</th>\n",
       "      <th>ExitRates</th>\n",
       "      <th>PageValues</th>\n",
       "      <th>SpecialDay</th>\n",
       "      <th>Month</th>\n",
       "      <th>OperatingSystems</th>\n",
       "      <th>Browser</th>\n",
       "      <th>Region</th>\n",
       "      <th>TrafficType</th>\n",
       "      <th>VisitorType</th>\n",
       "      <th>Weekend</th>\n",
       "      <th>Revenue</th>\n",
       "    </tr>\n",
       "  </thead>\n",
       "  <tbody>\n",
       "    <tr>\n",
       "      <td>0</td>\n",
       "      <td>0</td>\n",
       "      <td>0.0</td>\n",
       "      <td>0</td>\n",
       "      <td>0.0</td>\n",
       "      <td>1</td>\n",
       "      <td>0.000000</td>\n",
       "      <td>0.20</td>\n",
       "      <td>0.20</td>\n",
       "      <td>0.0</td>\n",
       "      <td>0.0</td>\n",
       "      <td>2</td>\n",
       "      <td>1</td>\n",
       "      <td>1</td>\n",
       "      <td>1</td>\n",
       "      <td>1</td>\n",
       "      <td>2</td>\n",
       "      <td>0</td>\n",
       "      <td>0</td>\n",
       "    </tr>\n",
       "    <tr>\n",
       "      <td>1</td>\n",
       "      <td>0</td>\n",
       "      <td>0.0</td>\n",
       "      <td>0</td>\n",
       "      <td>0.0</td>\n",
       "      <td>2</td>\n",
       "      <td>64.000000</td>\n",
       "      <td>0.00</td>\n",
       "      <td>0.10</td>\n",
       "      <td>0.0</td>\n",
       "      <td>0.0</td>\n",
       "      <td>2</td>\n",
       "      <td>2</td>\n",
       "      <td>2</td>\n",
       "      <td>1</td>\n",
       "      <td>2</td>\n",
       "      <td>2</td>\n",
       "      <td>0</td>\n",
       "      <td>0</td>\n",
       "    </tr>\n",
       "    <tr>\n",
       "      <td>2</td>\n",
       "      <td>0</td>\n",
       "      <td>0.0</td>\n",
       "      <td>0</td>\n",
       "      <td>0.0</td>\n",
       "      <td>1</td>\n",
       "      <td>0.000000</td>\n",
       "      <td>0.20</td>\n",
       "      <td>0.20</td>\n",
       "      <td>0.0</td>\n",
       "      <td>0.0</td>\n",
       "      <td>2</td>\n",
       "      <td>4</td>\n",
       "      <td>1</td>\n",
       "      <td>9</td>\n",
       "      <td>3</td>\n",
       "      <td>2</td>\n",
       "      <td>0</td>\n",
       "      <td>0</td>\n",
       "    </tr>\n",
       "    <tr>\n",
       "      <td>3</td>\n",
       "      <td>0</td>\n",
       "      <td>0.0</td>\n",
       "      <td>0</td>\n",
       "      <td>0.0</td>\n",
       "      <td>2</td>\n",
       "      <td>2.666667</td>\n",
       "      <td>0.05</td>\n",
       "      <td>0.14</td>\n",
       "      <td>0.0</td>\n",
       "      <td>0.0</td>\n",
       "      <td>2</td>\n",
       "      <td>3</td>\n",
       "      <td>2</td>\n",
       "      <td>2</td>\n",
       "      <td>4</td>\n",
       "      <td>2</td>\n",
       "      <td>0</td>\n",
       "      <td>0</td>\n",
       "    </tr>\n",
       "    <tr>\n",
       "      <td>4</td>\n",
       "      <td>0</td>\n",
       "      <td>0.0</td>\n",
       "      <td>0</td>\n",
       "      <td>0.0</td>\n",
       "      <td>10</td>\n",
       "      <td>627.500000</td>\n",
       "      <td>0.02</td>\n",
       "      <td>0.05</td>\n",
       "      <td>0.0</td>\n",
       "      <td>0.0</td>\n",
       "      <td>2</td>\n",
       "      <td>3</td>\n",
       "      <td>3</td>\n",
       "      <td>1</td>\n",
       "      <td>4</td>\n",
       "      <td>2</td>\n",
       "      <td>1</td>\n",
       "      <td>0</td>\n",
       "    </tr>\n",
       "  </tbody>\n",
       "</table>\n",
       "</div>"
      ],
      "text/plain": [
       "   Administrative  Administrative_Duration  Informational  \\\n",
       "0               0                      0.0              0   \n",
       "1               0                      0.0              0   \n",
       "2               0                      0.0              0   \n",
       "3               0                      0.0              0   \n",
       "4               0                      0.0              0   \n",
       "\n",
       "   Informational_Duration  ProductRelated  ProductRelated_Duration  \\\n",
       "0                     0.0               1                 0.000000   \n",
       "1                     0.0               2                64.000000   \n",
       "2                     0.0               1                 0.000000   \n",
       "3                     0.0               2                 2.666667   \n",
       "4                     0.0              10               627.500000   \n",
       "\n",
       "   BounceRates  ExitRates  PageValues  SpecialDay  Month  OperatingSystems  \\\n",
       "0         0.20       0.20         0.0         0.0      2                 1   \n",
       "1         0.00       0.10         0.0         0.0      2                 2   \n",
       "2         0.20       0.20         0.0         0.0      2                 4   \n",
       "3         0.05       0.14         0.0         0.0      2                 3   \n",
       "4         0.02       0.05         0.0         0.0      2                 3   \n",
       "\n",
       "   Browser  Region  TrafficType  VisitorType  Weekend  Revenue  \n",
       "0        1       1            1            2        0        0  \n",
       "1        2       1            2            2        0        0  \n",
       "2        1       9            3            2        0        0  \n",
       "3        2       2            4            2        0        0  \n",
       "4        3       1            4            2        1        0  "
      ]
     },
     "execution_count": 71,
     "metadata": {},
     "output_type": "execute_result"
    }
   ],
   "source": [
    "feature = LabelEncoder()\n",
    "df['Month'] = feature.fit_transform(df['Month'])\n",
    "df['VisitorType'] = feature.fit_transform(df['VisitorType'])\n",
    "df['Weekend'] = feature.fit_transform(df['Weekend'])\n",
    "\n",
    "df.head()"
   ]
  },
  {
   "cell_type": "code",
   "execution_count": 72,
   "metadata": {},
   "outputs": [],
   "source": [
    "X = df.drop(['Revenue'], axis = 1)\n",
    "y = df['Revenue']"
   ]
  },
  {
   "cell_type": "code",
   "execution_count": 73,
   "metadata": {},
   "outputs": [],
   "source": [
    "from sklearn.model_selection import train_test_split\n",
    "\n",
    "X_train, X_test, y_train, y_test = train_test_split(X, y, test_size=0.2, random_state = 101)"
   ]
  },
  {
   "cell_type": "code",
   "execution_count": 74,
   "metadata": {},
   "outputs": [
    {
     "data": {
      "text/plain": [
       "LogisticRegression(C=1.0, class_weight=None, dual=False, fit_intercept=True,\n",
       "                   intercept_scaling=1, l1_ratio=None, max_iter=100,\n",
       "                   multi_class='warn', n_jobs=None, penalty='l2',\n",
       "                   random_state=None, solver='warn', tol=0.0001, verbose=0,\n",
       "                   warm_start=False)"
      ]
     },
     "execution_count": 74,
     "metadata": {},
     "output_type": "execute_result"
    }
   ],
   "source": [
    "from sklearn.linear_model import LogisticRegression \n",
    "\n",
    "model=LogisticRegression() \n",
    "\n",
    "model.fit(X_train,y_train)"
   ]
  },
  {
   "cell_type": "code",
   "execution_count": 75,
   "metadata": {},
   "outputs": [],
   "source": [
    "y_pred_log = model.predict(X_test)"
   ]
  },
  {
   "cell_type": "code",
   "execution_count": 84,
   "metadata": {},
   "outputs": [
    {
     "name": "stdout",
     "output_type": "stream",
     "text": [
      "0.8864557988645579\n",
      "[[2037   54]\n",
      " [ 226  149]]\n"
     ]
    }
   ],
   "source": [
    "from sklearn.metrics import accuracy_score \n",
    "from sklearn.metrics import confusion_matrix \n",
    "print(accuracy_score(y_test,y_pred_log)) \n",
    "matrix1=confusion_matrix(y_test,y_pred_log) \n",
    "print(matrix1)"
   ]
  },
  {
   "cell_type": "code",
   "execution_count": 77,
   "metadata": {},
   "outputs": [
    {
     "data": {
      "text/plain": [
       "DecisionTreeClassifier(class_weight=None, criterion='gini', max_depth=None,\n",
       "                       max_features=None, max_leaf_nodes=None,\n",
       "                       min_impurity_decrease=0.0, min_impurity_split=None,\n",
       "                       min_samples_leaf=1, min_samples_split=2,\n",
       "                       min_weight_fraction_leaf=0.0, presort=False,\n",
       "                       random_state=None, splitter='best')"
      ]
     },
     "execution_count": 77,
     "metadata": {},
     "output_type": "execute_result"
    }
   ],
   "source": [
    "from sklearn import tree\n",
    "dt=tree.DecisionTreeClassifier(criterion='gini')\n",
    "dt.fit(X_train,y_train)"
   ]
  },
  {
   "cell_type": "code",
   "execution_count": 78,
   "metadata": {},
   "outputs": [],
   "source": [
    "y_pred_dt = dt.predict(X_test)"
   ]
  },
  {
   "cell_type": "code",
   "execution_count": 83,
   "metadata": {},
   "outputs": [
    {
     "name": "stdout",
     "output_type": "stream",
     "text": [
      "0.8657745336577454\n",
      "[[1906  185]\n",
      " [ 146  229]]\n"
     ]
    }
   ],
   "source": [
    "print(accuracy_score(y_test,y_pred_dt)) \n",
    "matrix2=confusion_matrix(y_test,y_pred_dt) \n",
    "print(matrix2)"
   ]
  },
  {
   "cell_type": "code",
   "execution_count": 80,
   "metadata": {},
   "outputs": [
    {
     "data": {
      "text/plain": [
       "RandomForestClassifier(bootstrap=True, class_weight=None, criterion='gini',\n",
       "                       max_depth=None, max_features='auto', max_leaf_nodes=None,\n",
       "                       min_impurity_decrease=0.0, min_impurity_split=None,\n",
       "                       min_samples_leaf=1, min_samples_split=2,\n",
       "                       min_weight_fraction_leaf=0.0, n_estimators=10,\n",
       "                       n_jobs=None, oob_score=False, random_state=None,\n",
       "                       verbose=0, warm_start=False)"
      ]
     },
     "execution_count": 80,
     "metadata": {},
     "output_type": "execute_result"
    }
   ],
   "source": [
    "from sklearn.ensemble import RandomForestClassifier\n",
    "rf = RandomForestClassifier()\n",
    "rf.fit(X_train, y_train)"
   ]
  },
  {
   "cell_type": "code",
   "execution_count": 81,
   "metadata": {},
   "outputs": [],
   "source": [
    "y_pred_rand = rf.predict(X_test)"
   ]
  },
  {
   "cell_type": "code",
   "execution_count": 82,
   "metadata": {},
   "outputs": [
    {
     "name": "stdout",
     "output_type": "stream",
     "text": [
      "0.9006488240064883\n",
      "[[2012   79]\n",
      " [ 166  209]]\n"
     ]
    }
   ],
   "source": [
    "print(accuracy_score(y_test,y_pred_rand)) \n",
    "matrix3=confusion_matrix(y_test,y_pred_rand) \n",
    "print(matrix3)"
   ]
  },
  {
   "cell_type": "code",
   "execution_count": 85,
   "metadata": {},
   "outputs": [
    {
     "data": {
      "text/plain": [
       "SVC(C=1.0, cache_size=200, class_weight=None, coef0=0.0,\n",
       "    decision_function_shape='ovr', degree=3, gamma='auto_deprecated',\n",
       "    kernel='rbf', max_iter=-1, probability=False, random_state=None,\n",
       "    shrinking=True, tol=0.001, verbose=False)"
      ]
     },
     "execution_count": 85,
     "metadata": {},
     "output_type": "execute_result"
    }
   ],
   "source": [
    "from sklearn import svm\n",
    "model_svm = svm.SVC()\n",
    "model_svm.fit(X_train, y_train)"
   ]
  },
  {
   "cell_type": "code",
   "execution_count": 86,
   "metadata": {},
   "outputs": [],
   "source": [
    "y_pred_svm = model_svm.predict(X_test)"
   ]
  },
  {
   "cell_type": "code",
   "execution_count": 87,
   "metadata": {},
   "outputs": [
    {
     "name": "stdout",
     "output_type": "stream",
     "text": [
      "0.8479318734793188\n",
      "[[2091    0]\n",
      " [ 375    0]]\n"
     ]
    }
   ],
   "source": [
    "print(accuracy_score(y_test,y_pred_svm)) \n",
    "matrix4=confusion_matrix(y_test,y_pred_svm) \n",
    "print(matrix4)"
   ]
  },
  {
   "cell_type": "code",
   "execution_count": 88,
   "metadata": {},
   "outputs": [
    {
     "data": {
      "text/plain": [
       "GaussianNB(priors=None, var_smoothing=1e-09)"
      ]
     },
     "execution_count": 88,
     "metadata": {},
     "output_type": "execute_result"
    }
   ],
   "source": [
    "from sklearn.naive_bayes import GaussianNB\n",
    "nb = GaussianNB()\n",
    "nb.fit(X_train, y_train)"
   ]
  },
  {
   "cell_type": "code",
   "execution_count": 89,
   "metadata": {},
   "outputs": [],
   "source": [
    "y_pred_nb = nb.predict(X_test)"
   ]
  },
  {
   "cell_type": "code",
   "execution_count": 91,
   "metadata": {},
   "outputs": [
    {
     "name": "stdout",
     "output_type": "stream",
     "text": [
      "0.8475263584752636\n",
      "[[1879  212]\n",
      " [ 164  211]]\n"
     ]
    }
   ],
   "source": [
    "print(accuracy_score(y_test,y_pred_nb)) \n",
    "matrix5=confusion_matrix(y_test,y_pred_nb) \n",
    "print(matrix5)"
   ]
  },
  {
   "cell_type": "code",
   "execution_count": 92,
   "metadata": {},
   "outputs": [
    {
     "data": {
      "text/plain": [
       "KNeighborsClassifier(algorithm='auto', leaf_size=30, metric='minkowski',\n",
       "                     metric_params=None, n_jobs=None, n_neighbors=5, p=2,\n",
       "                     weights='uniform')"
      ]
     },
     "execution_count": 92,
     "metadata": {},
     "output_type": "execute_result"
    }
   ],
   "source": [
    "from sklearn.neighbors import KNeighborsClassifier\n",
    "kNN = KNeighborsClassifier()\n",
    "kNN.fit(X_train, y_train)"
   ]
  },
  {
   "cell_type": "code",
   "execution_count": 93,
   "metadata": {},
   "outputs": [],
   "source": [
    "y_pred_kNN = kNN.predict(X_test)"
   ]
  },
  {
   "cell_type": "code",
   "execution_count": 94,
   "metadata": {},
   "outputs": [
    {
     "name": "stdout",
     "output_type": "stream",
     "text": [
      "0.8686131386861314\n",
      "[[2013   78]\n",
      " [ 246  129]]\n"
     ]
    }
   ],
   "source": [
    "print(accuracy_score(y_test,y_pred_kNN)) \n",
    "matrix6=confusion_matrix(y_test,y_pred_kNN) \n",
    "print(matrix6)"
   ]
  },
  {
   "cell_type": "code",
   "execution_count": 96,
   "metadata": {},
   "outputs": [
    {
     "name": "stdout",
     "output_type": "stream",
     "text": [
      "Logistic Regression: 0.8864557988645579\n",
      "Decision Tree: 0.8657745336577454\n",
      "Random Forest: 0.9006488240064883\n",
      "SVM: 0.8479318734793188\n",
      "Naive Bayes: 0.8475263584752636\n",
      "KNN: 0.8686131386861314\n"
     ]
    }
   ],
   "source": [
    "print(\"Logistic Regression:\", accuracy_score(y_test,y_pred_log))\n",
    "print(\"Decision Tree:\", accuracy_score(y_test,y_pred_dt))\n",
    "print(\"Random Forest:\", accuracy_score(y_test,y_pred_rand))\n",
    "print(\"SVM:\", accuracy_score(y_test,y_pred_svm))\n",
    "print(\"Naive Bayes:\", accuracy_score(y_test,y_pred_nb))\n",
    "print(\"KNN:\", accuracy_score(y_test,y_pred_kNN))"
   ]
  },
  {
   "cell_type": "markdown",
   "metadata": {},
   "source": [
    "Dapat disimpulkan bahwa model machine learning dengan akurasi tertinggi adalah Random Forest"
   ]
  },
  {
   "cell_type": "markdown",
   "metadata": {},
   "source": [
    "### Menggunakan Random Forest untuk menentukan feature mana yang paling berpengaruh"
   ]
  },
  {
   "cell_type": "code",
   "execution_count": 101,
   "metadata": {},
   "outputs": [
    {
     "name": "stdout",
     "output_type": "stream",
     "text": [
      "('Administrative', 0.03978093411699611)\n",
      "('Administrative', 0.05784819607847698)\n",
      "('Informational', 0.0199278352641214)\n",
      "('Informational_Duration', 0.023668164635056898)\n",
      "('ProductRelated', 0.06984000893378906)\n",
      "('ProductRelated_Duration', 0.09045694698761492)\n",
      "('BounceRates', 0.0560302062125255)\n",
      "('ExitRates', 0.09090990426120724)\n",
      "('PageValues', 0.3762869359988698)\n",
      "('SpecialDays', 0.003372986776344865)\n",
      "('Month', 0.0447327969278518)\n",
      "('OperatingSystems', 0.016017261842463527)\n",
      "('Browser', 0.01978281281999455)\n",
      "('Region', 0.03255328235971269)\n",
      "('TrafficType', 0.032628820832706275)\n",
      "('VisitorType', 0.016588492897329506)\n",
      "('Weekend', 0.009574413054938835)\n"
     ]
    }
   ],
   "source": [
    "char = ['Administrative', 'Administrative', 'Informational', 'Informational_Duration','ProductRelated',\n",
    "          'ProductRelated_Duration', 'BounceRates', 'ExitRates', 'PageValues', 'SpecialDays', 'Month',\n",
    "          'OperatingSystems','Browser','Region','TrafficType', 'VisitorType', 'Weekend']\n",
    "\n",
    "for feature in zip(char, rf.feature_importances_):\n",
    "    print(feature)"
   ]
  },
  {
   "cell_type": "code",
   "execution_count": 102,
   "metadata": {},
   "outputs": [
    {
     "name": "stdout",
     "output_type": "stream",
     "text": [
      "Feature ranking:\n",
      "1. Feature 8 (0.376287)\n",
      "2. Feature 7 (0.090910)\n",
      "3. Feature 5 (0.090457)\n",
      "4. Feature 4 (0.069840)\n",
      "5. Feature 1 (0.057848)\n",
      "6. Feature 6 (0.056030)\n",
      "7. Feature 10 (0.044733)\n",
      "8. Feature 0 (0.039781)\n",
      "9. Feature 14 (0.032629)\n",
      "10. Feature 13 (0.032553)\n",
      "11. Feature 3 (0.023668)\n",
      "12. Feature 2 (0.019928)\n",
      "13. Feature 12 (0.019783)\n",
      "14. Feature 15 (0.016588)\n",
      "15. Feature 11 (0.016017)\n",
      "16. Feature 16 (0.009574)\n",
      "17. Feature 9 (0.003373)\n"
     ]
    }
   ],
   "source": [
    "importances = rf.feature_importances_\n",
    "std = np.std([tree.feature_importances_ for tree in rf.estimators_],\n",
    "             axis=0)\n",
    "indices = np.argsort(importances)[::-1]\n",
    "\n",
    "print(\"Feature ranking:\")\n",
    "\n",
    "for f in range(X_train.shape[1]):\n",
    "    print(\"%d. Feature %d (%f)\" % (f + 1, indices[f], importances[indices[f]]))"
   ]
  },
  {
   "cell_type": "code",
   "execution_count": 103,
   "metadata": {},
   "outputs": [
    {
     "data": {
      "text/html": [
       "<div>\n",
       "<style scoped>\n",
       "    .dataframe tbody tr th:only-of-type {\n",
       "        vertical-align: middle;\n",
       "    }\n",
       "\n",
       "    .dataframe tbody tr th {\n",
       "        vertical-align: top;\n",
       "    }\n",
       "\n",
       "    .dataframe thead th {\n",
       "        text-align: right;\n",
       "    }\n",
       "</style>\n",
       "<table border=\"1\" class=\"dataframe\">\n",
       "  <thead>\n",
       "    <tr style=\"text-align: right;\">\n",
       "      <th></th>\n",
       "      <th>Importance</th>\n",
       "    </tr>\n",
       "  </thead>\n",
       "  <tbody>\n",
       "    <tr>\n",
       "      <td>PageValues</td>\n",
       "      <td>0.376287</td>\n",
       "    </tr>\n",
       "    <tr>\n",
       "      <td>ExitRates</td>\n",
       "      <td>0.090910</td>\n",
       "    </tr>\n",
       "    <tr>\n",
       "      <td>ProductRelated_Duration</td>\n",
       "      <td>0.090457</td>\n",
       "    </tr>\n",
       "    <tr>\n",
       "      <td>ProductRelated</td>\n",
       "      <td>0.069840</td>\n",
       "    </tr>\n",
       "    <tr>\n",
       "      <td>Administrative_Duration</td>\n",
       "      <td>0.057848</td>\n",
       "    </tr>\n",
       "    <tr>\n",
       "      <td>BounceRates</td>\n",
       "      <td>0.056030</td>\n",
       "    </tr>\n",
       "    <tr>\n",
       "      <td>Month</td>\n",
       "      <td>0.044733</td>\n",
       "    </tr>\n",
       "    <tr>\n",
       "      <td>Administrative</td>\n",
       "      <td>0.039781</td>\n",
       "    </tr>\n",
       "    <tr>\n",
       "      <td>TrafficType</td>\n",
       "      <td>0.032629</td>\n",
       "    </tr>\n",
       "    <tr>\n",
       "      <td>Region</td>\n",
       "      <td>0.032553</td>\n",
       "    </tr>\n",
       "    <tr>\n",
       "      <td>Informational_Duration</td>\n",
       "      <td>0.023668</td>\n",
       "    </tr>\n",
       "    <tr>\n",
       "      <td>Informational</td>\n",
       "      <td>0.019928</td>\n",
       "    </tr>\n",
       "    <tr>\n",
       "      <td>Browser</td>\n",
       "      <td>0.019783</td>\n",
       "    </tr>\n",
       "    <tr>\n",
       "      <td>VisitorType</td>\n",
       "      <td>0.016588</td>\n",
       "    </tr>\n",
       "    <tr>\n",
       "      <td>OperatingSystems</td>\n",
       "      <td>0.016017</td>\n",
       "    </tr>\n",
       "    <tr>\n",
       "      <td>Weekend</td>\n",
       "      <td>0.009574</td>\n",
       "    </tr>\n",
       "    <tr>\n",
       "      <td>SpecialDay</td>\n",
       "      <td>0.003373</td>\n",
       "    </tr>\n",
       "  </tbody>\n",
       "</table>\n",
       "</div>"
      ],
      "text/plain": [
       "                         Importance\n",
       "PageValues                 0.376287\n",
       "ExitRates                  0.090910\n",
       "ProductRelated_Duration    0.090457\n",
       "ProductRelated             0.069840\n",
       "Administrative_Duration    0.057848\n",
       "BounceRates                0.056030\n",
       "Month                      0.044733\n",
       "Administrative             0.039781\n",
       "TrafficType                0.032629\n",
       "Region                     0.032553\n",
       "Informational_Duration     0.023668\n",
       "Informational              0.019928\n",
       "Browser                    0.019783\n",
       "VisitorType                0.016588\n",
       "OperatingSystems           0.016017\n",
       "Weekend                    0.009574\n",
       "SpecialDay                 0.003373"
      ]
     },
     "execution_count": 103,
     "metadata": {},
     "output_type": "execute_result"
    }
   ],
   "source": [
    "col_names = pd.Series([col for col in X_train.columns])\n",
    "\n",
    "importance_df = pd.DataFrame(importances)\n",
    "importance_df.rename(columns={0:'Importance'}, inplace=True)\n",
    "importance_df.set_index(col_names,inplace=True)\n",
    "\n",
    "imp_sorted = importance_df.sort_values(by='Importance', ascending=False)\n",
    "imp_sorted"
   ]
  },
  {
   "cell_type": "code",
   "execution_count": 104,
   "metadata": {},
   "outputs": [
    {
     "data": {
      "image/png": "[encoded data removed]",
      "text/plain": [
       "<Figure size 432x288 with 1 Axes>"
      ]
     },
     "metadata": {
      "needs_background": "light"
     },
     "output_type": "display_data"
    }
   ],
   "source": [
    "plt.title(\"Feature importances\")\n",
    "plt.bar(range(X_train.shape[1]),importances[indices])\n",
    "plt.xticks(range(X_train.shape[1]), imp_sorted.index, rotation=90)\n",
    "plt.xlim([-1, X_train.shape[1]])\n",
    "plt.show()"
   ]
  },
  {
   "cell_type": "markdown",
   "metadata": {},
   "source": [
    "## Kesimpulan"
   ]
  },
  {
   "cell_type": "markdown",
   "metadata": {},
   "source": [
    "Berdasarkan analisis yang telah dilakukan pada dataset online shopping dapat disimpulkan beberapa hal yaitu,\n",
    "- Hanya sebesar 15.47% pembelian yang terjadi dari seluruh jumlah kungjungan online\n",
    "- Kunjungan & pembelian online terjadi lebih banyak pada weekdays dibandingkan weekends\n",
    "- Kunjungan & pembelian online terbanyak berasal dari user yang merupakan pengunjung berulang\n",
    "- Kunjungan & pembelian online terbanyak berasal dari user menggunakan traffic type nomer 2\n",
    "- Region 1 merupakan daerah asal user yang melakukan kunjungan & pembelian online terbanyak\n",
    "- Browser 2 merupakan browser yang paling banyak digunakan oleh pengunjung dan pembeli online\n",
    "- OS No. 2 merupakan OS yang paling banyak digunakan oleh pengunjung dan pembeli online\n",
    "- Bulan November merupakan bulan dimana terjadi kunjungan online terbanyak, namun pembelian terbanyak terjadi pada bulan Mei\n",
    "\n",
    "Berdasarkan model machine learning\n",
    "- Model RandomForest menghasilkan akurasi tertinggi sebesar 90%\n",
    "- Dan 5 feature paling berpengaruh dalam pembelian online adalah:\n",
    "    - Page Values\n",
    "    - Exit Rates\n",
    "    - ProductRelated Duration\n",
    "    - Product Related\n",
    "    - Administrative Duration"
   ]
  },
  {
   "cell_type": "code",
   "execution_count": null,
   "metadata": {},
   "outputs": [],
   "source": []
  }
 ],
 "metadata": {
  "kernelspec": {
   "display_name": "Python 3",
   "language": "python",
   "name": "python3"
  },
  "language_info": {
   "codemirror_mode": {
    "name": "ipython",
    "version": 3
   },
   "file_extension": ".py",
   "mimetype": "text/x-python",
   "name": "python",
   "nbconvert_exporter": "python",
   "pygments_lexer": "ipython3",
   "version": "3.7.4"
  }
 },
 "nbformat": 4,
 "nbformat_minor": 2
}
