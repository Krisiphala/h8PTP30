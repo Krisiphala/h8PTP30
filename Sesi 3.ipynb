{
 "cells": [
  {
   "cell_type": "markdown",
   "metadata": {},
   "source": [
    "# Intro to Python Sesi 3"
   ]
  },
  {
   "cell_type": "markdown",
   "metadata": {},
   "source": [
    "## Function"
   ]
  },
  {
   "cell_type": "markdown",
   "metadata": {},
   "source": [
    "### Defining a Function"
   ]
  },
  {
   "cell_type": "code",
   "execution_count": null,
   "metadata": {},
   "outputs": [],
   "source": [
    "def function_name(parameters):\n",
    "    \"docstring\"\n",
    "    statement(s)"
   ]
  },
  {
   "cell_type": "code",
   "execution_count": 3,
   "metadata": {},
   "outputs": [],
   "source": [
    "def makeCoffee():\n",
    "    print(\"siapkan kopi\")\n",
    "    print(\"siapkan gelas\")\n",
    "    print(\"masukan kopi ke gelas diberi air panas\")\n",
    "    print(\"kopi siap\")"
   ]
  },
  {
   "cell_type": "code",
   "execution_count": 4,
   "metadata": {},
   "outputs": [
    {
     "name": "stdout",
     "output_type": "stream",
     "text": [
      "siapkan kopi\n",
      "siapkan gelas\n",
      "masukan kopi ke gelas diberi air panas\n",
      "kopi siap\n"
     ]
    }
   ],
   "source": [
    "makeCoffee()"
   ]
  },
  {
   "cell_type": "code",
   "execution_count": 5,
   "metadata": {},
   "outputs": [],
   "source": [
    "def my_function():\n",
    "    \"This prints a string\"\n",
    "    print(\"Hello from a function\")"
   ]
  },
  {
   "cell_type": "code",
   "execution_count": 12,
   "metadata": {},
   "outputs": [
    {
     "name": "stdout",
     "output_type": "stream",
     "text": [
      "I'm first call to user defined function!\n",
      "Again second call to the same function\n",
      "And again third call to the same function\n"
     ]
    }
   ],
   "source": [
    "def printme(str):\n",
    "    \"This prints a passed string into this function\"\n",
    "    print(str)\n",
    "    return\n",
    "\n",
    "printme(\"I'm first call to user defined function!\")            \n",
    "printme(\"Again second call to the same function\")\n",
    "printme(\"And again third call to the same function\")         #This is called required argument (harus diisi)"
   ]
  },
  {
   "cell_type": "code",
   "execution_count": 13,
   "metadata": {},
   "outputs": [
    {
     "data": {
      "text/plain": [
       "<function __main__.my_function()>"
      ]
     },
     "execution_count": 13,
     "metadata": {},
     "output_type": "execute_result"
    }
   ],
   "source": [
    "my_function"
   ]
  },
  {
   "cell_type": "markdown",
   "metadata": {},
   "source": [
    "### Function Arguments"
   ]
  },
  {
   "cell_type": "code",
   "execution_count": 14,
   "metadata": {},
   "outputs": [
    {
     "name": "stdout",
     "output_type": "stream",
     "text": [
      "Name:  hacktiv8\n",
      "Age:  4\n",
      "Name:  4\n",
      "Age:  hacktiv8\n"
     ]
    }
   ],
   "source": [
    "#keyword argument (kalo parameter lebih dari 1 agar function bisa dipanggil)\n",
    "def printinfo(name, age):\n",
    "    \"This prints a passed info into this function\"\n",
    "    print(\"Name: \", name)\n",
    "    print(\"Age: \", age)\n",
    "\n",
    "#Now you can call printinfo function with multiple parameter\n",
    "printinfo(age = 4, name=\"hacktiv8\")\n",
    "printinfo(4, \"hacktiv8\") \n",
    "#jika tidak dimasukan keyword argument (age =... / name =...), 4 dan hacktiv8 akan masuk sesuai urutan yang ditulis"
   ]
  },
  {
   "cell_type": "code",
   "execution_count": 15,
   "metadata": {},
   "outputs": [
    {
     "name": "stdout",
     "output_type": "stream",
     "text": [
      "Name:  Hacktiv8\n",
      "Age:  50\n",
      "Name:  Hacktiv*\n",
      "Age:  26\n"
     ]
    }
   ],
   "source": [
    "#Contoh default arguments\n",
    "def printinfo(name, age = 26): #Contoh default argument, jika tidak memasukan age apa apa maka 26 sebagai default akan keluar\n",
    "    \"This prints a passed info into this function\"\n",
    "    print(\"Name: \", name)\n",
    "    print(\"Age: \", age)\n",
    "    return\n",
    "\n",
    "printinfo(age = 50, name = \"Hacktiv8\")\n",
    "printinfo(name = \"Hacktiv8\")"
   ]
  },
  {
   "cell_type": "code",
   "execution_count": 16,
   "metadata": {},
   "outputs": [
    {
     "name": "stdout",
     "output_type": "stream",
     "text": [
      "The youngest child is H3\n"
     ]
    }
   ],
   "source": [
    "#Contoh variable length arguments\n",
    "def my_function(*kids):\n",
    "    print(\"The youngest child is \" + kids[2])\n",
    "\n",
    "my_function(\"H1\", \"H2\", \"H3\")"
   ]
  },
  {
   "cell_type": "code",
   "execution_count": 18,
   "metadata": {},
   "outputs": [
    {
     "name": "stdout",
     "output_type": "stream",
     "text": [
      "Output is: \n",
      "20\n",
      "Output is: \n",
      "10\n",
      "20\n",
      "50\n"
     ]
    }
   ],
   "source": [
    "# Contoh function yang optional\n",
    "def printinfo(arg1, *vartuple):\n",
    "    \"This prints a variable passed arguments\"\n",
    "    print(\"Output is: \")\n",
    "    print(arg1)\n",
    "    for var in vartuple:\n",
    "        print(var)\n",
    "    return\n",
    "\n",
    "printinfo(20)\n",
    "printinfo(10, 20, 50)"
   ]
  },
  {
   "cell_type": "markdown",
   "metadata": {},
   "source": [
    "### The Anonymous Functions"
   ]
  },
  {
   "cell_type": "code",
   "execution_count": 24,
   "metadata": {},
   "outputs": [
    {
     "name": "stdout",
     "output_type": "stream",
     "text": [
      "125\n",
      "None\n"
     ]
    }
   ],
   "source": [
    "def cube(y):\n",
    "    y*y*y\n",
    "\n",
    "g = lambda x: x*x*x\n",
    "\n",
    "print(g(5)) #Tidak perlu diberikan nama, hasil sama saja\n",
    "\n",
    "print(cube(5))"
   ]
  },
  {
   "cell_type": "code",
   "execution_count": 23,
   "metadata": {},
   "outputs": [
    {
     "name": "stdout",
     "output_type": "stream",
     "text": [
      "Value of total :  200\n",
      "Value of total :  400\n"
     ]
    }
   ],
   "source": [
    "sum = lambda arg1, arg2: arg1 * arg2\n",
    "\n",
    "print(\"Value of total : \", sum(10, 20))\n",
    "print(\"Value of total : \", sum(20, 20))"
   ]
  },
  {
   "cell_type": "markdown",
   "metadata": {},
   "source": [
    "### Return Statement"
   ]
  },
  {
   "cell_type": "code",
   "execution_count": 29,
   "metadata": {},
   "outputs": [
    {
     "name": "stdout",
     "output_type": "stream",
     "text": [
      "Inside the function:  30\n",
      "Outside the function:  600\n"
     ]
    }
   ],
   "source": [
    "def sum(arg1, arg2):\n",
    "    total = arg1 + arg2\n",
    "    total2 = total * arg2\n",
    "    print(\"Inside the function: \", total)\n",
    "    return total2;\n",
    "\n",
    "total = sum(10, 20)\n",
    "print(\"Outside the function: \", total)"
   ]
  },
  {
   "cell_type": "markdown",
   "metadata": {},
   "source": [
    "### Scope of Variables"
   ]
  },
  {
   "cell_type": "code",
   "execution_count": 34,
   "metadata": {},
   "outputs": [],
   "source": [
    "# Global variables (dibikin diluar function)\n",
    "# Local variables (dibikin didalam function)\n",
    "\n",
    "jumlahKelinci = 20                      # Global variables\n",
    "\n",
    "def jumlahA():\n",
    "    jumlahKucing = 30                   #Local variables\n",
    "    print(jumlahKelinci + jumlahKucing)\n",
    "    \n",
    "def jumlahB():\n",
    "    jumlahAnjing = 10\n",
    "    print(jumlahKelinci + jumlahAnjing)\n",
    "    # tidak bisa print(jumlahKucing + jumlahAnjing) karena function jumlahB tidak kenal jumlahKucing, hanya mengenal jumlahAnjing, jumlahA & jumlah Kelinci"
   ]
  },
  {
   "cell_type": "code",
   "execution_count": 31,
   "metadata": {},
   "outputs": [
    {
     "name": "stdout",
     "output_type": "stream",
     "text": [
      "50\n"
     ]
    }
   ],
   "source": [
    "jumlahA()"
   ]
  },
  {
   "cell_type": "code",
   "execution_count": 35,
   "metadata": {},
   "outputs": [
    {
     "name": "stdout",
     "output_type": "stream",
     "text": [
      "30\n"
     ]
    }
   ],
   "source": [
    "jumlahB()"
   ]
  },
  {
   "cell_type": "code",
   "execution_count": 42,
   "metadata": {},
   "outputs": [
    {
     "name": "stdout",
     "output_type": "stream",
     "text": [
      "Inside the function:  30\n",
      "Outside the function:  0\n"
     ]
    }
   ],
   "source": [
    "total = 0 #Global function\n",
    "\n",
    "def sum(arg1, arg2):\n",
    "    total = arg1 + arg2 #local variable\n",
    "    print(\"Inside the function: \", total)\n",
    "    return total\n",
    "\n",
    "sum(10, 20)\n",
    "print(\"Outside the function: \", total) #Hanya mengerti yang global variable, sehingga 0 yang akan keluar"
   ]
  },
  {
   "cell_type": "code",
   "execution_count": 43,
   "metadata": {},
   "outputs": [
    {
     "data": {
      "text/plain": [
       "97"
      ]
     },
     "execution_count": 43,
     "metadata": {},
     "output_type": "execute_result"
    }
   ],
   "source": [
    "abs(-97) #Contoh built in function pada Python"
   ]
  },
  {
   "cell_type": "markdown",
   "metadata": {},
   "source": [
    "## Python Modules"
   ]
  },
  {
   "cell_type": "markdown",
   "metadata": {},
   "source": [
    "Study more about Module & Package"
   ]
  },
  {
   "cell_type": "markdown",
   "metadata": {},
   "source": [
    "Buat file dengan ekstensi .py (contoh mod.py) dalam folder dan diisi dengan:"
   ]
  },
  {
   "cell_type": "code",
   "execution_count": 44,
   "metadata": {},
   "outputs": [],
   "source": [
    "s = \"Hacktiv8-PTP Python For Data Science\"\n",
    "a = [100, 200, 300]\n",
    "\n",
    "def foo(arg):\n",
    "    print(f'arg = {arg}')\n",
    "\n",
    "class Foo:\n",
    "    pass"
   ]
  },
  {
   "cell_type": "markdown",
   "metadata": {},
   "source": [
    "Objek-objek tersebut dapat dipanggil dari mod.py dengan beberapa cara contoh:\n",
    "#>>> import mod\n",
    "#>>> print(mod.s)\n",
    "#Hacktiv8-PTP Python For Data Science\n",
    "#>>> mod.a\n",
    "#[100, 200, 300]\n",
    "#>>> mod.foo(['quux', 'corge', 'grault'])\n",
    "#arg = ['quux', 'corge', 'grault']\n",
    "#>>> x = mod.Foo()\n",
    "#>>> x\n",
    "#<mod.Foo object at 0x03C181F0>"
   ]
  },
  {
   "cell_type": "code",
   "execution_count": null,
   "metadata": {},
   "outputs": [],
   "source": []
  }
 ],
 "metadata": {
  "kernelspec": {
   "display_name": "Python 3",
   "language": "python",
   "name": "python3"
  },
  "language_info": {
   "codemirror_mode": {
    "name": "ipython",
    "version": 3
   },
   "file_extension": ".py",
   "mimetype": "text/x-python",
   "name": "python",
   "nbconvert_exporter": "python",
   "pygments_lexer": "ipython3",
   "version": "3.7.4"
  }
 },
 "nbformat": 4,
 "nbformat_minor": 2
}
